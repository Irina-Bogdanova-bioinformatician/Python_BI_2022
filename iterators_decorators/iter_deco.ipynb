{
  "cells": [
    {
      "cell_type": "markdown",
      "metadata": {
        "id": "view-in-github",
        "colab_type": "text"
      },
      "source": [
        "<a href=\"https://colab.research.google.com/github/Irina-Bogdanova-bioinformatician/Python_BI_2022/blob/iterators_decorators/iterators_decorators/iter_deco.ipynb\" target=\"_parent\"><img src=\"https://colab.research.google.com/assets/colab-badge.svg\" alt=\"Open In Colab\"/></a>"
      ]
    },
    {
      "cell_type": "markdown",
      "id": "72f5013c-f4b9-4a1f-aed9-7e47623e7c8a",
      "metadata": {
        "id": "72f5013c-f4b9-4a1f-aed9-7e47623e7c8a"
      },
      "source": [
        "# Задание 1 (2 балла)"
      ]
    },
    {
      "cell_type": "markdown",
      "id": "0e818fc0-4716-45c6-8942-7b60da358200",
      "metadata": {
        "id": "0e818fc0-4716-45c6-8942-7b60da358200"
      },
      "source": [
        "Напишите класс `MyDict`, который будет полностью повторять поведение обычного словаря, за исключением того, что при итерации мы должны получать и ключи, и значения.\n",
        "\n",
        "**Модули использовать нельзя**"
      ]
    },
    {
      "cell_type": "code",
      "execution_count": null,
      "id": "3dc27675-99fc-4040-a8f7-aa20be51c816",
      "metadata": {
        "id": "3dc27675-99fc-4040-a8f7-aa20be51c816"
      },
      "outputs": [],
      "source": [
        "class MyDict(dict):\n",
        "\n",
        "    def __init__(self, new_dict):\n",
        "        self.new_dict = new_dict\n",
        "        super(MyDict, self).__init__(new_dict)\n",
        "\n",
        "    def __iter__(self):\n",
        "        return zip(self.new_dict.keys(), self.new_dict.values())\n",
        "\n",
        "\n",
        "\n",
        "        \n"
      ]
    },
    {
      "cell_type": "code",
      "execution_count": null,
      "id": "a96e453e-2553-40b1-889f-cce04c6db771",
      "metadata": {
        "id": "a96e453e-2553-40b1-889f-cce04c6db771",
        "outputId": "2e7fd5ff-bdfe-4873-fbf6-f1b0387a9185",
        "colab": {
          "base_uri": "https://localhost:8080/"
        }
      },
      "outputs": [
        {
          "output_type": "stream",
          "name": "stdout",
          "text": [
            "a 1\n",
            "b 2\n",
            "c 3\n",
            "d 25\n"
          ]
        }
      ],
      "source": [
        "dct = MyDict({\"a\": 1, \"b\": 2, \"c\": 3, \"d\": 25})\n",
        "\n",
        "for key, value in dct:\n",
        "    print(key, value)   "
      ]
    },
    {
      "cell_type": "code",
      "execution_count": null,
      "id": "d3b93507-d88a-4773-8d6f-31990e1effbc",
      "metadata": {
        "id": "d3b93507-d88a-4773-8d6f-31990e1effbc",
        "outputId": "3fdf0ebe-2929-4add-a2b7-290f5a221e18",
        "colab": {
          "base_uri": "https://localhost:8080/"
        }
      },
      "outputs": [
        {
          "output_type": "stream",
          "name": "stdout",
          "text": [
            "a 1\n",
            "b 2\n",
            "c 3\n",
            "d 25\n"
          ]
        }
      ],
      "source": [
        "for key, value in dct.items():\n",
        "    print(key, value)"
      ]
    },
    {
      "cell_type": "code",
      "execution_count": null,
      "id": "9be2de18-f963-4de0-afba-c183a9a56087",
      "metadata": {
        "id": "9be2de18-f963-4de0-afba-c183a9a56087",
        "outputId": "8375e3f3-f927-4d8c-f424-9c58968ccbbd",
        "colab": {
          "base_uri": "https://localhost:8080/"
        }
      },
      "outputs": [
        {
          "output_type": "stream",
          "name": "stdout",
          "text": [
            "a\n",
            "b\n",
            "c\n",
            "d\n"
          ]
        }
      ],
      "source": [
        "for key in dct.keys():\n",
        "    print(key)"
      ]
    },
    {
      "cell_type": "code",
      "execution_count": null,
      "id": "b7bfbf08-7253-4aab-a9a0-a8e8500c5a29",
      "metadata": {
        "id": "b7bfbf08-7253-4aab-a9a0-a8e8500c5a29",
        "outputId": "8c8d7a8c-8761-4c19-ff5d-7cf1358a55f0",
        "colab": {
          "base_uri": "https://localhost:8080/"
        }
      },
      "outputs": [
        {
          "output_type": "execute_result",
          "data": {
            "text/plain": [
              "28"
            ]
          },
          "metadata": {},
          "execution_count": 25
        }
      ],
      "source": [
        "dct[\"c\"] + dct[\"d\"]"
      ]
    },
    {
      "cell_type": "markdown",
      "id": "4bde5544-afd0-408e-a03b-dad5096ee685",
      "metadata": {
        "id": "4bde5544-afd0-408e-a03b-dad5096ee685"
      },
      "source": [
        "# Задание 2 (2 балла)"
      ]
    },
    {
      "cell_type": "markdown",
      "id": "36e85085-9990-4a2a-a005-f5ef3afd438d",
      "metadata": {
        "id": "36e85085-9990-4a2a-a005-f5ef3afd438d"
      },
      "source": [
        "Напишите функцию `iter_append`, которая \"добавляет\" новый элемент в конец итератора, возвращая итератор, который включает изначальные элементы и новый элемент. Итерироваться по итератору внутри функции нельзя, то есть вот такая штука не принимается\n",
        "```python\n",
        "def iter_append(iterator, item):\n",
        "    lst = list(iterator) + [item]\n",
        "    return iter(lst)\n",
        "```\n",
        "\n",
        "**Модули использовать нельзя**"
      ]
    },
    {
      "cell_type": "code",
      "execution_count": null,
      "id": "d70f202a-0515-4f40-a9b1-4738572a837c",
      "metadata": {
        "id": "d70f202a-0515-4f40-a9b1-4738572a837c",
        "outputId": "be858850-7732-4bc9-9be5-dfc4290b2692",
        "colab": {
          "base_uri": "https://localhost:8080/"
        }
      },
      "outputs": [
        {
          "output_type": "stream",
          "name": "stdout",
          "text": [
            "1\n",
            "2\n",
            "3\n",
            "4\n"
          ]
        }
      ],
      "source": [
        "def iter_append(iterator, item):\n",
        "  end_of_iteration = False\n",
        "  while not end_of_iteration:\n",
        "        try:\n",
        "            yield next(iterator)\n",
        "        except StopIteration:\n",
        "            yield item\n",
        "            end_of_iteration = True\n",
        "\n",
        "my_iterator = iter([1, 2, 3])\n",
        "new_iterator = iter_append(my_iterator, 4)\n",
        "\n",
        "for element in new_iterator:\n",
        "    print(element)"
      ]
    },
    {
      "cell_type": "markdown",
      "id": "72c35894-0caf-41ac-a584-56058b243f29",
      "metadata": {
        "id": "72c35894-0caf-41ac-a584-56058b243f29"
      },
      "source": [
        "# Задание 3 (5 баллов)"
      ]
    },
    {
      "cell_type": "markdown",
      "id": "884be4ed-b388-4b36-ad7d-d6835a87425e",
      "metadata": {
        "id": "884be4ed-b388-4b36-ad7d-d6835a87425e"
      },
      "source": [
        "Представим, что мы установили себе некотурую библиотеку, которая содержит в себе два класса `MyString` и `MySet`, которые являются наследниками `str` и `set`, но также несут и дополнительные методы.\n",
        "\n",
        "Проблема заключается в том, что библиотеку писали не очень аккуратные люди, поэтому получилось так, что некоторые методы возвращают не тот тип данных, который мы ожидаем. Например, `MyString().reverse()` возвращает объект класса `str`, хотя логичнее было бы ожидать объект класса `MyString`.\n",
        "\n",
        "Найдите и реализуйте удобный способ сделать так, чтобы подобные методы возвращали экземпляр текущего класса, а не родительского. При этом **код методов изменять нельзя**\n",
        "\n",
        "**+3 дополнительных балла** за реализацию того, чтобы **унаследованные от `str` и `set` методы** также возвращали объект интересующего нас класса (то есть `MyString.replace(..., ...)` должен возвращать `MyString`). **Переопределять методы нельзя**\n",
        "\n",
        "**Модули использовать нельзя**"
      ]
    },
    {
      "cell_type": "code",
      "execution_count": null,
      "id": "7973388e-c16f-437f-a1af-30ddd69f7671",
      "metadata": {
        "id": "7973388e-c16f-437f-a1af-30ddd69f7671"
      },
      "outputs": [],
      "source": [
        "# Ваш код где угодно, но не внутри методов\n",
        "\n",
        "\n",
        "class MyString(str):\n",
        "\n",
        "    def return_mystring_object(func):\n",
        "        def inner_func(*args, **kwargs):\n",
        "            result = func(*args, **kwargs)\n",
        "            return MyString(result)\n",
        "        return inner_func\n",
        "    \n",
        "    @return_mystring_object\n",
        "    def reverse(self):\n",
        "        return self[::-1]\n",
        "    \n",
        "    @return_mystring_object\n",
        "    def make_uppercase(self):\n",
        "        return \"\".join([chr(ord(char) - 32) if 97 <= ord(char) <= 122 else char for char in self])\n",
        "    \n",
        "    @return_mystring_object\n",
        "    def make_lowercase(self):\n",
        "        return \"\".join([chr(ord(char) + 32) if 65 <= ord(char) <= 90 else char for char in self])\n",
        "    \n",
        "    @return_mystring_object\n",
        "    def capitalize_words(self):\n",
        "        return \" \".join([word.capitalize() for word in self.split()])\n",
        "    \n",
        "    \n",
        "class MySet(set):\n",
        "\n",
        "    def return_myset_object(func):\n",
        "        def inner_func(*args, **kwargs):\n",
        "            result = func(*args, **kwargs)\n",
        "            return MySet(result)\n",
        "        return inner_func\n",
        "    \n",
        "    def is_empty(self):\n",
        "        return len(self) == 0\n",
        "    \n",
        "    def has_duplicates(self):\n",
        "        return len(self) != len(set(self))\n",
        "    \n",
        "    @return_myset_object\n",
        "    def union_with(self, other):\n",
        "        return self.union(other)\n",
        "    \n",
        "    @return_myset_object\n",
        "    def intersection_with(self, other):\n",
        "        return self.intersection(other)\n",
        "    \n",
        "    @return_myset_object\n",
        "    def difference_with(self, other):\n",
        "        return self.difference(other)"
      ]
    },
    {
      "cell_type": "code",
      "execution_count": null,
      "id": "8b985a7b-ddf2-47ce-8b76-a4dd921a2e06",
      "metadata": {
        "id": "8b985a7b-ddf2-47ce-8b76-a4dd921a2e06",
        "outputId": "7d7aa779-46b3-498c-ff27-1d19d888ac18",
        "colab": {
          "base_uri": "https://localhost:8080/"
        }
      },
      "outputs": [
        {
          "output_type": "stream",
          "name": "stdout",
          "text": [
            "<class '__main__.MyString'>\n",
            "<class '__main__.MyString'>\n",
            "<class '__main__.MyString'>\n",
            "<class '__main__.MyString'>\n",
            "\n",
            "<class 'bool'>\n",
            "<class 'bool'>\n",
            "<class '__main__.MySet'>\n",
            "<class '__main__.MySet'>\n"
          ]
        }
      ],
      "source": [
        "string_example = MyString(\"Aa Bb Cc\")\n",
        "set_example_1 = MySet({1, 2, 3, 4})\n",
        "set_example_2 = MySet({3, 4, 5, 6, 6})\n",
        "\n",
        "print(type(string_example.reverse()))\n",
        "print(type(string_example.make_uppercase()))\n",
        "print(type(string_example.make_lowercase()))\n",
        "print(type(string_example.capitalize_words()))\n",
        "print()\n",
        "print(type(set_example_1.is_empty()))\n",
        "print(type(set_example_2.has_duplicates()))\n",
        "print(type(set_example_1.union_with(set_example_2)))\n",
        "print(type(set_example_1.difference_with(set_example_2)))"
      ]
    },
    {
      "cell_type": "markdown",
      "id": "f246ecea-9aaa-45c6-98e4-996dc9cdce14",
      "metadata": {
        "id": "f246ecea-9aaa-45c6-98e4-996dc9cdce14"
      },
      "source": [
        "# Задание 4 (5 баллов)"
      ]
    },
    {
      "cell_type": "markdown",
      "id": "e66831d7-df9c-4778-9942-bbb8796fef1e",
      "metadata": {
        "id": "e66831d7-df9c-4778-9942-bbb8796fef1e"
      },
      "source": [
        "Напишите декоратор `switch_privacy`:\n",
        "1. Делает все публичные **методы** класса приватными\n",
        "2. Делает все приватные методы класса публичными\n",
        "3. Dunder методы и защищённые методы остаются без изменений\n",
        "4. Должен работать тестовый код ниже, в теле класса писать код нельзя\n",
        "\n",
        "**Модули использовать нельзя**"
      ]
    },
    {
      "cell_type": "code",
      "execution_count": null,
      "id": "733db8d6-87b8-4797-97be-d3b901422ded",
      "metadata": {
        "id": "733db8d6-87b8-4797-97be-d3b901422ded"
      },
      "outputs": [],
      "source": [
        "# Ваш код здесь\n",
        "\n",
        "def switch_privacy(cls):\n",
        "    methods_to_add = []\n",
        "    methods_to_remove = []\n",
        "    for key, value in cls.__dict__.items():\n",
        "        if key.startswith(f'_{cls.__name__}__'):\n",
        "            methods_to_add.append([key.replace(f'_{cls.__name__}__', ''), value])\n",
        "            methods_to_remove.append(key)\n",
        "            \n",
        "        elif not key.startswith(\"_\"):\n",
        "            methods_to_add.append([f'_{cls.__name__}__{key}', value])\n",
        "            methods_to_remove.append(key)\n",
        "\n",
        "        else:\n",
        "            pass\n",
        "\n",
        "    for key, value in methods_to_add:\n",
        "        setattr(cls, key, value)\n",
        "\n",
        "    for key in methods_to_remove:\n",
        "        delattr(cls, key)\n",
        "\n",
        "    return cls\n",
        "\n",
        "\n",
        "@switch_privacy\n",
        "class ExampleClass:\n",
        "    # Но не здесь\n",
        "\n",
        "    def public_method(self):\n",
        "        return 1\n",
        "\n",
        "    def _protected_method(self):\n",
        "        return 2\n",
        "\n",
        "    def __private_method(self):\n",
        "        return 3\n",
        "\n",
        "    def __dunder_method__(self):\n",
        "        pass\n"
      ]
    },
    {
      "cell_type": "code",
      "execution_count": null,
      "id": "c936077d-e618-459c-bbcc-6ad1b22d0975",
      "metadata": {
        "id": "c936077d-e618-459c-bbcc-6ad1b22d0975",
        "outputId": "da2ad7c1-ad1e-4741-f729-c2c72da6abba",
        "colab": {
          "base_uri": "https://localhost:8080/"
        }
      },
      "outputs": [
        {
          "output_type": "execute_result",
          "data": {
            "text/plain": [
              "1"
            ]
          },
          "metadata": {},
          "execution_count": 5
        }
      ],
      "source": [
        "test_object = ExampleClass()\n",
        "\n",
        "test_object._ExampleClass__public_method()   # Приватный метод стал публичным"
      ]
    },
    {
      "cell_type": "code",
      "execution_count": null,
      "id": "10603672-80cf-460c-9305-d0950094419d",
      "metadata": {
        "id": "10603672-80cf-460c-9305-d0950094419d",
        "outputId": "d5387f8b-99e7-44de-8c03-63cbbb6b0935",
        "colab": {
          "base_uri": "https://localhost:8080/"
        }
      },
      "outputs": [
        {
          "output_type": "execute_result",
          "data": {
            "text/plain": [
              "3"
            ]
          },
          "metadata": {},
          "execution_count": 6
        }
      ],
      "source": [
        "test_object.private_method()   # Публичный метод стал приватным"
      ]
    },
    {
      "cell_type": "code",
      "execution_count": null,
      "id": "f30b1ef8-0f80-482d-89f1-09caece61c88",
      "metadata": {
        "id": "f30b1ef8-0f80-482d-89f1-09caece61c88",
        "outputId": "ac976b8d-935f-486c-9d68-01220691f8f6",
        "colab": {
          "base_uri": "https://localhost:8080/"
        }
      },
      "outputs": [
        {
          "output_type": "execute_result",
          "data": {
            "text/plain": [
              "2"
            ]
          },
          "metadata": {},
          "execution_count": 7
        }
      ],
      "source": [
        "test_object._protected_method()   # Защищённый метод остался защищённым"
      ]
    },
    {
      "cell_type": "code",
      "execution_count": null,
      "id": "71d51e6e-62b5-4440-af3e-75088761b1bf",
      "metadata": {
        "id": "71d51e6e-62b5-4440-af3e-75088761b1bf"
      },
      "outputs": [],
      "source": [
        "test_object.__dunder_method__()   # Дандер метод не изменился"
      ]
    },
    {
      "cell_type": "code",
      "execution_count": null,
      "id": "a97cf0c4-4881-441c-83b6-ef8955377585",
      "metadata": {
        "id": "a97cf0c4-4881-441c-83b6-ef8955377585",
        "outputId": "c6fbc9b3-968a-4342-8d42-3c4d2e2128b7",
        "colab": {
          "base_uri": "https://localhost:8080/"
        }
      },
      "outputs": [
        {
          "output_type": "execute_result",
          "data": {
            "text/plain": [
              "(False, False)"
            ]
          },
          "metadata": {},
          "execution_count": 9
        }
      ],
      "source": [
        "hasattr(test_object, \"public_method\"), hasattr(test_object, \"private\")   # Изначальные варианты изменённых методов не сохраняются"
      ]
    },
    {
      "cell_type": "markdown",
      "id": "31ad0bdd-9a24-4d6c-a499-e975b4b6acdd",
      "metadata": {
        "id": "31ad0bdd-9a24-4d6c-a499-e975b4b6acdd"
      },
      "source": [
        "# Задание 5 (7 баллов)"
      ]
    },
    {
      "cell_type": "markdown",
      "id": "68c75d25-37f7-491d-bcc0-ba74e8bdb364",
      "metadata": {
        "id": "68c75d25-37f7-491d-bcc0-ba74e8bdb364"
      },
      "source": [
        "Напишите [контекстный менеджер](https://docs.python.org/3/library/stdtypes.html#context-manager-types) `OpenFasta`\n",
        "\n",
        "Контекстные менеджеры это специальные объекты, которые могут работать с конструкцией `with ... as ...:`. В них нет ничего сложного, для их реализации как обычно нужно только определить только пару dunder методов. Изучите этот вопрос самостоятельно\n",
        "\n",
        "1. Объект должен работать как обычные файлы в питоне (наследоваться не надо, здесь лучше будет использовать **композицию**), но:\n",
        "    + При итерации по объекту мы должны будем получать не строку из файла, а специальный объект `FastaRecord`. Он будет хранить в себе информацию о последовательности. Важно, **не строки, а именно последовательности**, в fasta файлах последовательность часто разбивают на много строк\n",
        "    + Нужно написать методы `read_record` и `read_records`, которые по смыслу соответствуют `readline()` и `readlines()` в обычных файлах, но они должны выдавать не строки, а объект(ы) `FastaRecord`\n",
        "2. Конструктор должен принимать один аргумент - **путь к файлу**\n",
        "3. Класс должен эффективно распоряжаться памятью, с расчётом на работу с очень большими файлами\n",
        "    \n",
        "Объект `FastaRecord`. Это должен быть **датакласс** (см. про примеры декораторов в соответствующей лекции) с тремя полями:\n",
        "+ `seq` - последовательность\n",
        "+ `id_` - ID последовательности (это то, что в фаста файле в строке, которая начинается с `>` до первого пробела. Например, >**GTD326487.1** Species anonymous 24 chromosome) \n",
        "+ `description` - то, что осталось после ID (Например, >GTD326487.1 **Species anonymous 24 chromosome**)\n",
        "\n",
        "\n",
        "Напишите демонстрацию работы кода с использованием всех написанных методов, обязательно добавьте файл с тестовыми данными в репозиторий (не обязательно большой)\n",
        "\n",
        "**Можно использовать модули из стандартной библиотеки**"
      ]
    },
    {
      "cell_type": "code",
      "execution_count": 30,
      "id": "5188b5d5-1e6e-4b11-9b54-9ba809210dfc",
      "metadata": {
        "id": "5188b5d5-1e6e-4b11-9b54-9ba809210dfc",
        "colab": {
          "base_uri": "https://localhost:8080/"
        },
        "outputId": "f8ec8bbd-4cf8-4f9f-f3f2-c790ed9171d1"
      },
      "outputs": [
        {
          "output_type": "stream",
          "name": "stdout",
          "text": [
            "FastaRecord(seq='ATGCGGGTCACGGCGCCCCGAACCCTCCTCCTGCTGCTCTGGGGGGCAGTGGCCCTGACCGAGAC', id_='7941', description='Some description 1')\n",
            "FastaRecord(seq='GTGAGTGCGGGGTCGGCAGGGAAATGGCCTCTGTGGGGAGGAGCGCGCAGGCGGGGGCGCAGGACCCGGGGAGCCGCGCCGGGAGGAGGGTCGGGCGGGTCTCAGCCCCTCCTCGCCCCCAG', id_='7942', description='Some description 2')\n",
            "[FastaRecord(seq='GCTCCCACTCCATGAGGTATTTCCACACCTCCGTGTCCCGGCCCGGCCGCGGGGAGCCCCGCTTCATCACCGTGGGCTACGTGGACGACACGCAGTTCGTGCGGTTCGACAGCGACGCCACGAGTCCGAGGAAGGAGCCGCGGGCGCCATGGATAGAGCAGGAGGGGCCGGAGTATTGGGACCGGGAGACACAGATCTCCAAGACCAACACACAGACTTACCGAGAGAGCCTGCGGAACCTTACTACAACCAGAGCGAGGCCG>7944 Some description 4GTGAGTGACCCCGGCCCGGGGCGCAGGTCACGACTCCCCATCCCCGGCCCGGGTCGCCCCGAGTCTCCGGGTCCGAGATCCGCCCCCGAGGCCGCGGGACCCGCCCAGACCCTCGACCGGCGAGAGCCCCAGGCGCGTTTACCCGGTTTCATTTTCAGTTGAGGCCAAAATCCCCGCGGGTTGGTCGGGGCGGGGCGGGGCTCGGGGGGACGGGGCTGACCGCGGGGGCGGGGCCAG', id_='7943', description='Some description 3'), FastaRecord(seq='GGTCTCACACCCTCCAGAGCATGTACGGCTGCGACGTGGGGCCGGACGGGCGCCTCCTCCGCGGGCATAACCAGTACGCCTACGACGGCAAGGATTACATCGCCCTGAACGAGGACCTGCGCTCCTGGACCGCCGCGGACACGGCGGCTCAGATCACCCAGCGCAAGTGGGAGGCGGCCCGTGTGGCGGAGCAGCTGAGAGCCTACCTGGAGGGCGAGTGCGTGGAGTGGCTCCGCAAACGGGAAGGAGACGCTGCAGCGCGCGG', id_='7945', description='Some description 5'), FastaRecord(seq='GTACCAGGGGCAGTGGGGAGCCTTCCCCATCTCCTATAGGTCGCCGGGGATGGCCTCCCACGAGAAGAGGAGGAAAATGGGATCAGCGCTAGAATGTCGCCCTCCCTTGAATGGAGAATGGCATGAGTTTTCCTGAGTTTCCTCTGAGGGCCCCCTCTTCTCTCTAGGACAATTAAGGGATGACGTCTCTGAGGAAATGGAGGGGAAGACAGTCCCTAGAATACTGATCAGGGGTCCCCTTTGACCCCTGCAGCAGCCTTGGGAACCGTGACTTTTCCTCTCAGGCCTTGTTCTCTGCCTCACACTCAGTGTGTTTGGGGCTCTGATTCCAGCACTTCTGAGTCACTTTACCTCCACTCAGATCAGGAGCAGAAGTCCCTGTTCCCCGCTCAGAGACTCGAACTTTCCAATGAATAGGAGATTATCCCAGGTGCCTGGGTTCTGTGCCCCTTCCCCACCTGTCCATTCTCAGGCTGGTCACATGGGTGGTCCTAGGGTGTCCCATGAGAGATGCAAAGCGCCTGAATTTTCTGACTCTTCCCATCAG', id_='7946', description='Some description 6'), FastaRecord(seq='ACCCCCCAAAGACACACGTGACCCACCACCCCATCTCTGACCATGAGGCCACCCTGAGGTGCTGGGCCCTGGGCTTCTACCCTGCGGAGATCACACTGACCTGGCAGCGGGATGGCGAGGACCAAACTCAGGACACTGAGCTTGTGGAGACCAGACCAGCAGGAGATAGAACCTTCCAGAAGTGGGCAGCTGTGGTGGTGCCTTCTGGAGAAGAGCAGAGATACACATGCCATGTACAGCATGAGGGGCTGCCGAAGCCCCTCACCCTGAGATGGG', id_='7947', description='Some description 7'), FastaRecord(seq='GTAAGGAGGGGGATGAGGGGTCATATCTCTTCTCAGGGAAAGCAGGAGCCCTTCAGCAGGGTCAGGGCCCCTCATCTTCCCTTCCTTTCCCAG', id_='7948', description='Some description 8'), FastaRecord(seq='AGCCGTCTTCCCAGTCCACCGTCCCCATCGTGGGCATGGCCTGGCTGTCCTAGCAGTTGTGGTCATCGGAGCTGTGGTCGCTGCTGTGATGTGTAGGAGGAAGAGCTCAG', id_='7949', description='Some description 9'), FastaRecord(seq='GTAGGGAAGGGGTGAGGGGTGGGGTCTGAGTTTTCTTGTCCCACTGGGGGTTTCAAGCCCCAGGTAGAAGTGTTCCCTGCCTCATTACTGGGAAGCAGCATCCACACAGGGGCTAACGCAGCCTGGGACCCTGTGTGCCATTTTGTGCAGCACATGTGACAATGAAGGACGGATGTATCACCTTGGTGGTTGTGGTGTTGGGGTCCTGATTCCAGCATTCAGGAAGGTCCCTGCTAAGGACAGACCTTAGGAGGGCAGTTGGTCCAGGACCCACACTTGCTTTCCTCGTGTTTCCTGATCCTGCCTTGGGTCTGTAGTCATGGAAATTCCTTTTGGGTCCAAGACGAGGAGGTTCCTCTAAGATCTCATGGCCCTGCTTCCTCCCAGTCCCCTCACAGGGCATTTTCTTCCCACAG', id_='7950', description='Some description 10'), FastaRecord(seq='GTGGAAAAGGAGGGAGCTACTCTCAGGCTGCGT', id_='7951', description='Some description 11'), FastaRecord(seq='GTAAGTGATGGGGGTGGGAGTGTGGAGGAGCTCACCCACCCCCTAATTCCTCCTGTCCCACGTCTCCTGCGGGCTCTGACCAGGTCCTGTTTTTGTTCTACTCCAG', id_='7952', description='Some description 12')]\n"
          ]
        }
      ],
      "source": [
        "import os\n",
        "from dataclasses import dataclass\n",
        "\n",
        "@dataclass\n",
        "class FastaRecord:\n",
        "    seq: str\n",
        "    id_: str\n",
        "    description: str\n",
        "\n",
        "\n",
        "class OpenFasta():\n",
        "\n",
        "    def __init__(self, path):\n",
        "        self.file = path\n",
        "\n",
        "    def __enter__(self):\n",
        "        self.file = open(self.file)\n",
        "        self.file.__setattr__('read_record', self.read_record)\n",
        "        self.file.__setattr__('read_records', self.read_records)\n",
        "        return self.file\n",
        "\n",
        "    def __exit__(self, type, value, traceback):\n",
        "        self.file.close()\n",
        "\n",
        "    def read_record(self):\n",
        "        new_record = \"\"\n",
        "        while True:\n",
        "            char = self.file.read(1) \n",
        "            if char == \">\" and new_record:\n",
        "                break\n",
        "            if not char:\n",
        "                print('The end of the file is reached')\n",
        "                break\n",
        "            new_record += char\n",
        "        if char:\n",
        "            first_line, sequence = new_record.split(\"\\n\", 1)\n",
        "            id, descr = first_line.split(\" \", 1)\n",
        "            sequence = sequence.replace(\"\\n\", \"\")\n",
        "            id = id.replace(\">\", \"\")\n",
        "            fasta_record = FastaRecord(id_=id, seq=sequence, description=descr)\n",
        "        else:\n",
        "          fasta_record = None\n",
        "        return fasta_record\n",
        "\n",
        "    def read_records(self):\n",
        "\n",
        "        def get_fasta_record(record):\n",
        "            first_line, sequence = record.split(\"\\n\", 1)\n",
        "            id, descr = first_line.split(\" \", 1)\n",
        "            sequence = sequence.replace(\"\\n\", \"\")\n",
        "            id = id.replace(\">\", \"\")\n",
        "            fasta_record = FastaRecord(id_=id, seq=sequence, description=descr)\n",
        "            return fasta_record\n",
        "\n",
        "        records = []\n",
        "        new_record = \"\"\n",
        "        while True:\n",
        "            new_line = self.file.readline()\n",
        "            if not new_line:\n",
        "                records.append(get_fasta_record(new_record))\n",
        "                break\n",
        "            if \">\" in new_line and \">\" in new_record:\n",
        "                records.append(get_fasta_record(new_record))\n",
        "                new_record = new_line\n",
        "            else:\n",
        "                new_record += new_line\n",
        "        return records  \n",
        "          \n",
        "with OpenFasta(os.path.join(\"test_file.fasta\")) as fasta:\n",
        "    record = fasta.read_record()\n",
        "    print(record)\n",
        "    record_2 = fasta.read_record()\n",
        "    print(record_2)\n",
        "    records = fasta.read_records()\n",
        "    print(records)\n"
      ]
    },
    {
      "cell_type": "markdown",
      "id": "4db652e9-7697-4dd7-bcc3-649bdc18c1c4",
      "metadata": {
        "id": "4db652e9-7697-4dd7-bcc3-649bdc18c1c4"
      },
      "source": [
        "# Задание 6 (7 баллов)"
      ]
    },
    {
      "cell_type": "markdown",
      "id": "a8ba05f3-29f0-48be-a477-c1f61a9e0537",
      "metadata": {
        "id": "a8ba05f3-29f0-48be-a477-c1f61a9e0537"
      },
      "source": [
        "1. Напишите код, который позволит получать все возможные (неуникальные) генотипы при скрещивании двух организмов. Это может быть функция или класс, что вам кажется более удобным.\n",
        "\n",
        "Например, все возможные исходы скрещивания \"Aabb\" и \"Aabb\" (неуникальные) это\n",
        "\n",
        "```\n",
        "AAbb\n",
        "AAbb\n",
        "AAbb\n",
        "AAbb\n",
        "Aabb\n",
        "Aabb\n",
        "Aabb\n",
        "Aabb\n",
        "Aabb\n",
        "Aabb\n",
        "Aabb\n",
        "Aabb\n",
        "aabb\n",
        "aabb\n",
        "aabb\n",
        "aabb\n",
        "```\n",
        "\n",
        "2. Напишите функцию, которая вычисляет вероятность появления определённого генотипа (его ожидаемую долю в потомстве).\n",
        "Например,\n",
        "\n",
        "```python\n",
        "get_offspting_genotype_probability(parent1=\"Aabb\", parent2=\"Aabb\", target_genotype=\"Аabb\")   # 0.5\n",
        "\n",
        "```\n",
        "\n",
        "3. Напишите код, который выводит все уникальные генотипы при скрещивании `'АаБбввГгДдЕеЖжЗзИиЙйккЛлМмНн'` и `'АаббВвГгДДЕеЖжЗзИиЙйКкЛлМмНН'`, которые содержат в себе следующую комбинацию аллелей `'АаБбВвГгДдЕеЖжЗзИиЙйКкЛл'`\n",
        "4. Напишите код, который расчитывает вероятность появления генотипа `'АаБбввГгДдЕеЖжЗзИиЙйккЛлМмНн'` при скрещивании `АаБбВвГгДдЕеЖжЗзИиЙйКкЛлМмНн` и `АаБбВвГгДдЕеЖжЗзИиЙйКкЛлМмНн`\n",
        "\n",
        "Важные замечания:\n",
        "1. Порядок следования аллелей в случае гетерозигот всегда должен быть следующим: сначала большая буква, затем маленькая (вариант `AaBb` допустим, но `aAbB` быть не должно)\n",
        "2. Подзадачи 3 и 4 могут потребовать много вычислительного времени (до 15+ минут в зависимости от железа), поэтому убедитесь, что вы хорошо протестировали написанный вами код на малых данных перед выполнением этих задач. Если ваш код работает **дольше 20 мин**, то скорее всего ваше решение не оптимально, попытайтесь что-нибудь оптимизировать. Если оптимальное решение совсем не получается, то попробуйте из входных данных во всех заданиях убрать последний ген (это должно уменьшить время выполнения примерно в 4 раза), но **за такое решение будет снято 2 балла**\n",
        "3. Несмотря на то, что подзадания 2, 3 и 4 возможно решить математически, не прибегая к непосредственному получению всех возможных генотипов, от вас требуется именно brute-force вариант алгоритма\n",
        "\n",
        "**Можно использовать модули из стандартной библиотеки питона**, но **за выполнение задания без использования модулей придусмотрено +3 дополнительных балла**"
      ]
    },
    {
      "cell_type": "code",
      "execution_count": null,
      "id": "c64841e9-dfcd-45bb-bcaa-d672ea03a744",
      "metadata": {
        "tags": [],
        "id": "c64841e9-dfcd-45bb-bcaa-d672ea03a744"
      },
      "outputs": [],
      "source": [
        "# Ваш код здесь (1 и 2 подзадание)\n",
        "#TODO"
      ]
    },
    {
      "cell_type": "code",
      "execution_count": null,
      "id": "fdfb6d8c-0da7-4857-9579-6921dc409eb3",
      "metadata": {
        "tags": [],
        "id": "fdfb6d8c-0da7-4857-9579-6921dc409eb3"
      },
      "outputs": [],
      "source": [
        "# Ваш код здесь (3 подзадание)\n",
        "#TODO"
      ]
    },
    {
      "cell_type": "code",
      "execution_count": null,
      "id": "3e8a17cc-0642-49ae-ba6b-51ab5499660e",
      "metadata": {
        "id": "3e8a17cc-0642-49ae-ba6b-51ab5499660e"
      },
      "outputs": [],
      "source": [
        "# Ваш код здесь (4 подзадание)\n",
        "#TODO"
      ]
    }
  ],
  "metadata": {
    "kernelspec": {
      "display_name": "Python 3 (ipykernel)",
      "language": "python",
      "name": "python3"
    },
    "language_info": {
      "codemirror_mode": {
        "name": "ipython",
        "version": 3
      },
      "file_extension": ".py",
      "mimetype": "text/x-python",
      "name": "python",
      "nbconvert_exporter": "python",
      "pygments_lexer": "ipython3",
      "version": "3.9.12"
    },
    "colab": {
      "provenance": [],
      "include_colab_link": true
    }
  },
  "nbformat": 4,
  "nbformat_minor": 5
}