{
 "cells": [
  {
   "cell_type": "markdown",
   "id": "7c5a538f-2dbe-445c-9f46-cf0dc18867e4",
   "metadata": {},
   "source": [
    "# Задание 1 (5 баллов)"
   ]
  },
  {
   "cell_type": "markdown",
   "id": "1e8cc3b0-6f60-40da-8058-30d9eb434daf",
   "metadata": {},
   "source": [
    "Напишите классы **Chat**, **Message** и **User**. Они должны соответствовать следующим требованиям:\n",
    "\n",
    "**Chat**:\n",
    "+ Должен иметь атрибут `chat_history`, где будут храниться все сообщения (`Message`) в обратном хронологическом порядке (сначала новые, затем старые)\n",
    "+ Должен иметь метод `show_last_message`, выводящий на экран информацию о последнем сообщении\n",
    "+ Должен иметь метод `get_history_from_time_period`, который принимает два опциональных аргумента (даты с которой и по какую мы ищем сообщения и выдаём их). Метод также должен возвращать объект типа `Chat`\n",
    "+ Должен иметь метод `show_chat`, выводящий на экран все сообщения (каждое сообщение в таком же виде как и `show_last_message`, но с разделителем между ними)\n",
    "+ Должен иметь метод `recieve`, который будет принимать сообщение и добавлять его в чат\n",
    "\n",
    "**Message**:\n",
    "+ Должен иметь три обязательных атрибута\n",
    "    + `text` - текст сообщения\n",
    "    + `datetime` - дата и время сообщения (встроенный модуль datetime вам в помощь). Важно! Это должна быть не дата создания сообщения, а дата его попадания в чат! \n",
    "    + `user` - информация о пользователе, который оставил сообщение (какой тип данных использовать здесь, разберётесь сами)\n",
    "+ Должен иметь метод `show`, который печатает или возвращает информацию о сообщении с необходимой информацией (дата, время, юзер, текст)\n",
    "+ Должен иметь метод `send`, который будет отправлять сообщение в чат\n",
    "\n",
    "**User**:\n",
    "+ Класс с информацией о юзере, наполнение для этого класса придумайте сами\n",
    "\n",
    "Напишите несколько примеров использования кода, которое показывает взаимодействие между объектами.\n",
    "\n",
    "В тексте задания намерено не указано, какие аргументы должны принимать методы, пускай вам в этом поможет здравый смысл)\n",
    "\n",
    "В этом задании не стоит флексить всякими продвинутыми штуками, для этого есть последующие\n",
    "\n",
    "В этом задании можно использовать только модуль `datetime`"
   ]
  },
  {
   "cell_type": "code",
   "execution_count": 16,
   "id": "d14ce6ca-7294-492c-8a01-3f7547680474",
   "metadata": {},
   "outputs": [
    {
     "name": "stdout",
     "output_type": "stream",
     "text": [
      "The full name is Harry Potter. The age is 11 years old.\n",
      "There is no messages.\n",
      "Date:2023-02-26, time: 14:06:53.556973, user: Harry Potter, text: Wingardium Leviosa\n",
      "The message is not sent, user: Harry Potter, text: Alohomora\n",
      "Date:2023-02-26, time: 14:06:53.557982, user: Harry Potter, text: Alohomora\n",
      "Date:2023-02-26, time: 14:06:53.556973, user: Harry Potter, text: Wingardium Leviosa\n",
      "Date:2023-02-26, time: 14:06:53.557982, user: Harry Potter, text: Alohomora\n",
      "Date:2023-02-26, time: 14:06:53.556973, user: Harry Potter, text: Wingardium Leviosa\n",
      "Date:2023-02-26, time: 14:06:53.557982, user: Harry Potter, text: Alohomora\n",
      "Start and end dates are not set up - all messages are added to the new chat.\n",
      "Date:2023-02-26, time: 14:06:53.556973, user: Harry Potter, text: Wingardium Leviosa\n",
      "Date:2023-02-26, time: 14:06:53.557982, user: Harry Potter, text: Alohomora\n",
      "<__main__.Chat object at 0x000001F4849DA550>\n",
      "Date:2023-02-26, time: 14:06:53.557982, user: Harry Potter, text: Alohomora\n",
      "Date:2023-02-26, time: 14:06:53.556973, user: Harry Potter, text: Wingardium Leviosa\n",
      "None\n",
      "Start and end dates are not set up - all messages are added to the new chat.\n",
      "Date:2023-02-26, time: 14:06:53.556973, user: Harry Potter, text: Wingardium Leviosa\n",
      "Date:2023-02-26, time: 14:06:53.557982, user: Harry Potter, text: Alohomora\n",
      "<__main__.Chat object at 0x000001F4849DA940>\n",
      "Date:2023-02-26, time: 14:06:53.557982, user: Harry Potter, text: Alohomora\n",
      "Date:2023-02-26, time: 14:06:53.556973, user: Harry Potter, text: Wingardium Leviosa\n",
      "None\n"
     ]
    }
   ],
   "source": [
    "import datetime\n",
    "\n",
    "class Chat:\n",
    "    def __init__(self):\n",
    "        self.chat_history = []\n",
    "    \n",
    "    def show_last_message(self):\n",
    "        if not self.chat_history:\n",
    "            print(\"There is no messages\")\n",
    "        else:\n",
    "            self.chat_history[0].show()\n",
    "        \n",
    "    def get_history_from_time_period(self, date_start=None, date_end=None):\n",
    "        # date must be datetime.datetime(year, month, day)\n",
    "\n",
    "        new_chat = Chat()\n",
    "        if date_start and date_end:\n",
    "            for message in self.chat_history[::-1]:\n",
    "                if  message.datetime.date() >= date_start or message.datetime.date() <= date_end:\n",
    "                    new_chat.receive(message)\n",
    "                    message.show()\n",
    "        else:\n",
    "            print(\"Start and end dates are not set up - all messages are added to the new chat.\")\n",
    "            for message in self.chat_history[::-1]:\n",
    "                new_chat.receive(message)\n",
    "                message.show()\n",
    "        return new_chat\n",
    "        \n",
    "    def show_chat(self):\n",
    "        for message in self.chat_history:\n",
    "            message.show()\n",
    "        \n",
    "    def receive(self, message):\n",
    "        self.chat_history.insert(0, message)\n",
    "\n",
    "\n",
    "class Message():\n",
    "    def __init__(self, text, user, chat):\n",
    "        self.text = text\n",
    "        self.user = user\n",
    "        self.chat = chat\n",
    "        self.datetime = \"Not sent\"\n",
    "        user.add_message(self)\n",
    "        \n",
    "    def show(self):\n",
    "        if self.datetime == \"Not sent\":\n",
    "            print(f\"The message is not sent, user: {self.user.name} {self.user.surname}, text: {self.text}\")\n",
    "        else:\n",
    "            print(f\"Date:{self.datetime.date()}, time: {self.datetime.time()}, user: {self.user.name} {self.user.surname}, text: {self.text}\")\n",
    "            \n",
    "    def send(self):\n",
    "        self.datetime = datetime.datetime.now()\n",
    "        self.chat.receive(self)        \n",
    "        \n",
    "\n",
    "class User:\n",
    "    def __init__(self, name, surname, age):\n",
    "        self.name = name\n",
    "        self.surname = surname\n",
    "        self.age = age\n",
    "        self.messages = []\n",
    "        \n",
    "    def user_info(self):\n",
    "        print(f\"The full name is {self.name} {self.surname}. The age is {self.age} years old.\")\n",
    "\n",
    "    def add_message(self, message):\n",
    "        self.messages.insert(0, message)\n",
    "        \n",
    "    def see_messages(self):\n",
    "        if not self.messages:\n",
    "            print(\"There is no messages.\")\n",
    "        else:\n",
    "            for message in self.messages:\n",
    "                message.show()\n",
    "    \n",
    "        \n",
    "new_user = User(\"Harry\", \"Potter\", \"11\")\n",
    "new_user.user_info()\n",
    "new_user.see_messages()\n",
    "\n",
    "new_chat = Chat()\n",
    "first_message = Message(\"Wingardium Leviosa\", new_user, new_chat)\n",
    "first_message.send()\n",
    "first_message.show()\n",
    "second_message = Message(\"Alohomora\", new_user, new_chat)\n",
    "second_message.show()\n",
    "second_message.send()\n",
    "\n",
    "new_user.see_messages()\n",
    "\n",
    "new_chat.show_chat()\n",
    "new_chat.show_last_message()\n",
    "\n",
    "chat_part_1 = new_chat.get_history_from_time_period()\n",
    "print(chat_part_1)\n",
    "chat_part_1.show_chat()\n",
    "\n",
    "d1 = datetime.date(2018, 5, 3)\n",
    "d2 = datetime.date(2023, 6, 1)\n",
    "chat_part_2 = new_chat.get_history_from_time_period()\n",
    "print(chat_part_2)\n",
    "chat_part_2.show_chat()\n",
    "    \n",
    "    "
   ]
  },
  {
   "cell_type": "markdown",
   "id": "a59aa1b3-4c93-480e-a09f-e57df34eb60a",
   "metadata": {},
   "source": [
    "# Задание 2 (3 балла)"
   ]
  },
  {
   "cell_type": "markdown",
   "id": "ab07eb69-877f-4c38-8c7d-88beae20071b",
   "metadata": {},
   "source": [
    "В питоне как-то слишком типично и неинтересно происходят вызовы функций. Напишите класс `Args`, который будет хранить в себе аргументы, а функции можно будет вызывать при помощи следующего синтаксиса.\n",
    "\n",
    "Использовать любые модули **нельзя**, да и вряд-ли это как-то поможет)"
   ]
  },
  {
   "cell_type": "code",
   "execution_count": 71,
   "id": "d73d6b31-c15a-4ae6-ad9b-b3fdab88efed",
   "metadata": {},
   "outputs": [],
   "source": [
    "class Args:\n",
    "    def __init__(self, *args, **kwargs):\n",
    "        self.args = args\n",
    "        self.kwargs = kwargs\n",
    "        \n",
    "    def __rlshift__(self, other):\n",
    "        return other(*self.args, **self.kwargs)\n",
    "        \n",
    "    "
   ]
  },
  {
   "cell_type": "code",
   "execution_count": 72,
   "id": "55afedbb-4725-4078-bd98-bf803be0bf93",
   "metadata": {},
   "outputs": [
    {
     "data": {
      "text/plain": [
       "3"
      ]
     },
     "execution_count": 72,
     "metadata": {},
     "output_type": "execute_result"
    }
   ],
   "source": [
    "sum << Args([1, 2])"
   ]
  },
  {
   "cell_type": "code",
   "execution_count": 73,
   "id": "c37f0728-9bdc-469e-a5b8-3ab5aa43a731",
   "metadata": {},
   "outputs": [
    {
     "data": {
      "text/plain": [
       "53"
      ]
     },
     "execution_count": 73,
     "metadata": {},
     "output_type": "execute_result"
    }
   ],
   "source": [
    "(lambda a, b, c: a**2 + b + c) << Args(1, 2, c=50)"
   ]
  },
  {
   "cell_type": "markdown",
   "id": "d6915eaf-92fe-460b-bf9b-06ccf55b093f",
   "metadata": {},
   "source": [
    "# Задание 3 (5 баллов)"
   ]
  },
  {
   "cell_type": "markdown",
   "id": "5a588ef8-8af6-42b6-972b-3c716a604c34",
   "metadata": {},
   "source": [
    "Сделайте класс наследник `float`. Он должен вести себя как `float`, но также должен обладать некоторыми особенностями:\n",
    "+ При получении атрибутов формата `<действие>_<число>` мы получаем результат такого действия над нашим числом\n",
    "+ Создавать данные атрибуты в явном виде, очевидно, не стоит\n",
    "\n",
    "Подсказка: если в процессе гуглёжки, вы выйдете на такую тему как **\"Дескрипторы\", то это НЕ то, что вам сейчас нужно**\n",
    "\n",
    "Примеры использования ниже"
   ]
  },
  {
   "cell_type": "code",
   "execution_count": 186,
   "id": "61cb63a2-90ac-4b79-97a5-bb0496262e32",
   "metadata": {},
   "outputs": [],
   "source": [
    "class StrangeFloat(float):\n",
    "    def __new__(cls, value):\n",
    "        return float.__new__(cls, value)\n",
    "\n",
    "    def __getattr__(self, name):\n",
    "        if '_' in name:\n",
    "            action, other_value = name.split('_')\n",
    "            attr = getattr(self, f\"__{action}__\")\n",
    "            return attr(float(other_value))\n",
    "        else:\n",
    "            return self.__getattribute__(name)\n",
    "        \n",
    "\n",
    "    "
   ]
  },
  {
   "cell_type": "code",
   "execution_count": 187,
   "id": "f730c9c0-7d90-4037-97c6-e926dcbc1ea3",
   "metadata": {},
   "outputs": [],
   "source": [
    "number = StrangeFloat(3.5)"
   ]
  },
  {
   "cell_type": "code",
   "execution_count": 188,
   "id": "b2756368-a489-486d-a0f1-244697f8503c",
   "metadata": {},
   "outputs": [
    {
     "data": {
      "text/plain": [
       "4.5"
      ]
     },
     "execution_count": 188,
     "metadata": {},
     "output_type": "execute_result"
    }
   ],
   "source": [
    "number.add_1"
   ]
  },
  {
   "cell_type": "code",
   "execution_count": 189,
   "id": "c6799592-3cb6-4c7d-af62-9c0a48a76c1d",
   "metadata": {},
   "outputs": [
    {
     "data": {
      "text/plain": [
       "-16.5"
      ]
     },
     "execution_count": 189,
     "metadata": {},
     "output_type": "execute_result"
    }
   ],
   "source": [
    "number.sub_20"
   ]
  },
  {
   "cell_type": "code",
   "execution_count": 159,
   "id": "130027b5-017a-4c70-b072-1fdc6acf670f",
   "metadata": {},
   "outputs": [
    {
     "data": {
      "text/plain": [
       "17.5"
      ]
     },
     "execution_count": 159,
     "metadata": {},
     "output_type": "execute_result"
    }
   ],
   "source": [
    "number.mul_5"
   ]
  },
  {
   "cell_type": "code",
   "execution_count": 162,
   "id": "2b901e5c-5a51-4788-b15b-9b20a074e1a4",
   "metadata": {},
   "outputs": [
    {
     "data": {
      "text/plain": [
       "0.14"
      ]
     },
     "execution_count": 162,
     "metadata": {},
     "output_type": "execute_result"
    }
   ],
   "source": [
    "number.truediv_25"
   ]
  },
  {
   "cell_type": "code",
   "execution_count": 172,
   "id": "ea52c492-b0ce-4d73-8aba-a0ea51ed0b60",
   "metadata": {},
   "outputs": [
    {
     "name": "stdout",
     "output_type": "stream",
     "text": [
      "add_1\n",
      "action add value 1\n"
     ]
    },
    {
     "ename": "AttributeError",
     "evalue": "'float' object has no attribute 'add_2'",
     "output_type": "error",
     "traceback": [
      "\u001b[1;31m---------------------------------------------------------------------------\u001b[0m",
      "\u001b[1;31mAttributeError\u001b[0m                            Traceback (most recent call last)",
      "\u001b[1;32m<ipython-input-172-09968de9eb11>\u001b[0m in \u001b[0;36m<module>\u001b[1;34m\u001b[0m\n\u001b[1;32m----> 1\u001b[1;33m \u001b[0mnumber\u001b[0m\u001b[1;33m.\u001b[0m\u001b[0madd_1\u001b[0m\u001b[1;33m.\u001b[0m\u001b[0madd_2\u001b[0m\u001b[1;33m.\u001b[0m\u001b[0mmul_6\u001b[0m\u001b[1;33m.\u001b[0m\u001b[0mtruediv_8\u001b[0m\u001b[1;33m.\u001b[0m\u001b[0msub_9\u001b[0m\u001b[1;33m\u001b[0m\u001b[1;33m\u001b[0m\u001b[0m\n\u001b[0m",
      "\u001b[1;31mAttributeError\u001b[0m: 'float' object has no attribute 'add_2'"
     ]
    }
   ],
   "source": [
    "number.add_1.add_2.mul_6.truediv_8.sub_9"
   ]
  },
  {
   "cell_type": "code",
   "execution_count": 173,
   "id": "e26ef411-a5df-46c7-bb9d-e77a1fad3cec",
   "metadata": {},
   "outputs": [
    {
     "name": "stdout",
     "output_type": "stream",
     "text": [
      "add_-2.5\n",
      "action add value -2.5\n"
     ]
    },
    {
     "data": {
      "text/plain": [
       "1.0"
      ]
     },
     "execution_count": 173,
     "metadata": {},
     "output_type": "execute_result"
    }
   ],
   "source": [
    "getattr(number, \"add_-2.5\")   # Используем getattr, так как не можем написать number.add_-2.5 - это SyntaxError"
   ]
  },
  {
   "cell_type": "code",
   "execution_count": 174,
   "id": "7a57bb29-1105-4df1-a4c4-5fbf62eef11d",
   "metadata": {},
   "outputs": [
    {
     "data": {
      "text/plain": [
       "11.5"
      ]
     },
     "execution_count": 174,
     "metadata": {},
     "output_type": "execute_result"
    }
   ],
   "source": [
    "number + 8   # Стандартные для float операции работают также"
   ]
  },
  {
   "cell_type": "code",
   "execution_count": 175,
   "id": "f0246b31-c55a-4bb8-ac15-46509bd8b340",
   "metadata": {},
   "outputs": [
    {
     "data": {
      "text/plain": [
       "(7, 2)"
      ]
     },
     "execution_count": 175,
     "metadata": {},
     "output_type": "execute_result"
    }
   ],
   "source": [
    "number.as_integer_ratio()   # Стандартные для float операции работают также  (это встроенный метод float, писать его НЕ НАДО)"
   ]
  },
  {
   "cell_type": "markdown",
   "id": "3635bceb-723c-4b2f-82e3-269bd914c46c",
   "metadata": {},
   "source": [
    "# Задание 4 (3 балла)"
   ]
  },
  {
   "cell_type": "markdown",
   "id": "31d35f82-1e20-4bf5-b896-7b8163f8386f",
   "metadata": {},
   "source": [
    "В данном задании мы немного отдохнём и повеселимся. От вас требуется заменить в данном коде максимально возможное количество синтаксических конструкций на вызовы dunder методов, dunder атрибутов и dunder переменных.\n",
    "\n",
    "Маленькая заметка: полностью всё заменить невозможно. Например, `function()` можно записать как `function.__call__()`, но при этом мы всё ещё не избавляемся от скобочек, так что можно делать так до бесконечности `function.__call__.__call__.__call__.__call__.....__call__()` и при всём при этом мы ещё не избавляемся от `.` для доступа к атрибутам. В общем, замените всё, что получится, не закапываясь в повторы, как в приведённом примере. Чем больше разных методов вы найдёте и используете, тем лучше и тем выше будет балл\n",
    "\n",
    "Код по итогу дожен работать и печатать число **4420.0**, как в примере. Структуру кода менять нельзя, просто изменяем конструкции на синонимичные\n",
    "\n",
    "И ещё маленькая подсказка. Заменить здесь можно всё кроме:\n",
    "+ Конструкции `for ... in ...`:\n",
    "+ Синтаксиса создания лямбда функции\n",
    "+ Оператора присваивания `=`\n",
    "+ Конструкции `if-else`"
   ]
  },
  {
   "cell_type": "code",
   "execution_count": 70,
   "id": "a87cff2a-7168-470d-b38f-1cb5a60ac0c4",
   "metadata": {},
   "outputs": [
    {
     "name": "stdout",
     "output_type": "stream",
     "text": [
      "4420.0\n"
     ]
    }
   ],
   "source": [
    "import numpy as np\n",
    "\n",
    "\n",
    "matrix = []\n",
    "for idx in range(0, 100, 10):\n",
    "    matrix += [list(range(idx, idx + 10))]\n",
    "    \n",
    "selected_columns_indices = list(filter(lambda x: x in range(1, 5, 2), range(len(matrix))))\n",
    "selected_columns = map(lambda x: [x[col] for col in selected_columns_indices], matrix)\n",
    "\n",
    "arr = np.array(list(selected_columns))\n",
    "\n",
    "mask = arr[:, 1] % 3 == 0\n",
    "new_arr = arr[mask]\n",
    "\n",
    "product = new_arr @ new_arr.T\n",
    "\n",
    "if (product[0] < 1000).all() and (product[2] > 1000).any():\n",
    "    print(product.mean())"
   ]
  },
  {
   "cell_type": "code",
   "execution_count": 177,
   "id": "9e29cc00-c8db-4cc4-a93b-2908352d9344",
   "metadata": {},
   "outputs": [
    {
     "name": "stdout",
     "output_type": "stream",
     "text": [
      "4420.0\n"
     ]
    }
   ],
   "source": [
    "import numpy as np\n",
    "\n",
    "\n",
    "matrix = []\n",
    "for idx in range.__call__(0, 100, 10):\n",
    "    matrix.__iadd__([list.__call__(range.__call__(idx, idx.__add__(10)))])\n",
    "    \n",
    "selected_columns_indices = list.__call__(filter.__call__(lambda x: x in range.__call__(1, 5, 2), range.__call__(len.__call__(matrix))))\n",
    "selected_columns = map.__call__(lambda x: [x.__getitem__(col) for col in selected_columns_indices], matrix)\n",
    "\n",
    "arr = np.array(list.__call__(selected_columns))\n",
    "\n",
    "mask = arr[:, 1].__mod__(3).__eq__(0)   #arr.__getitem__(slice(?))\n",
    "new_arr = arr.__getitem__(mask)\n",
    "\n",
    "product = new_arr.__matmul__(new_arr.T)\n",
    "\n",
    "if (product[0].__lt__(1000)).all().__and__((product[2].__gt__(1000)).any()):\n",
    "    print(product.mean())"
   ]
  },
  {
   "cell_type": "markdown",
   "id": "e90e5938-cabe-4ee1-9a88-73f25b3b67c3",
   "metadata": {},
   "source": [
    "# Задание 5 (10 баллов)"
   ]
  },
  {
   "cell_type": "markdown",
   "id": "0e58f6a8-7bb8-45f0-b14d-3bcd1f1ba5a9",
   "metadata": {},
   "source": [
    "Напишите абстрактный класс `BiologicalSequence`, который задаёт следующий интерфейс:\n",
    "+ Работа с функцией `len`\n",
    "+ Возможность получать элементы по индексу и делать срезы последовательности (аналогично строкам)\n",
    "+ Вывод на печать в удобном виде и возможность конвертации в строку\n",
    "+ Возможность проверить алфавит последовательности на корректность\n",
    "\n",
    "Напишите класс `NucleicAcidSequence`:\n",
    "+ Данный класс реализует интерфейс `BiologicalSequence`\n",
    "+ Данный класс имеет новый метод `complement`, возвращающий комплементарную последовательность\n",
    "+ Данный класс имеет новый метод `gc_content`, возвращающий GC-состав (без разницы, в процентах или в долях)\n",
    "\n",
    "Напишите классы наследники `NucleicAcidSequence`: `DNASequence` и `RNASequence`\n",
    "+ `DNASequence` должен иметь метод `transcribe`, возвращающий транскрибированную РНК-последовательность\n",
    "+ Данные классы не должны иметь <ins>публичных методов</ins> `complement` и метода для проверки алфавита, так как они уже должны быть реализованы в `NucleicAcidSequence`.\n",
    "\n",
    "Напишите класс `AminoAcidSequence`:\n",
    "+ Данный класс реализует интерфейс `BiologicalSequence`\n",
    "+ Добавьте этому классу один любой метод, подходящий по смыслу к аминокислотной последовательности. Например, метод для нахождения изоэлектрической точки, молекулярного веса и т.д.\n",
    "\n",
    "Комментарий по поводу метода `NucleicAcidSequence.complement`, так как я хочу, чтобы вы сделали его опредедённым образом:\n",
    "\n",
    "При вызове `dna.complement()` или условного `dna.check_alphabet()` должны будут вызываться соответствующие методы из `NucleicAcidSequence`. При этом, данный метод должен обладать свойством полиморфизма, иначе говоря, внутри `complement` не надо делать условия а-ля `if seuqence_type == \"DNA\": return self.complement_dna()`, это крайне не гибко. Данный метод должен опираться на какой-то общий интерфейс между ДНК и РНК. Создание экземпляров `NucleicAcidSequence` не подразумевается, поэтому код `NucleicAcidSequence(\"ATGC\").complement()` не обязан работать, а в идеале должен кидать исключение `NotImplementedError` при вызове от экземпляра `NucleicAcidSequence`\n",
    "\n",
    "Вся сложность задания в том, чтобы правильно организовать код. Если у вас есть повторяющийся код в сестринских классах или родительском и дочернем, значит вы что-то делаете не так.\n",
    "\n",
    "\n",
    "Маленькое замечание: По-хорошему, между классом `BiologicalSequence` и классами `NucleicAcidSequence` и `AminoAcidSequence`, ещё должен быть класс-прослойка, частично реализующий интерфейс `BiologicalSequence`, но его писать не обязательно, так как задание и так довольно большое (правда из-за этого у вас неминуемо возникнет повторяющийся код в классах `NucleicAcidSequence` и `AminoAcidSequence`)"
   ]
  },
  {
   "cell_type": "code",
   "execution_count": 198,
   "id": "f17d5d3f-9982-4271-a987-3af7bc071c42",
   "metadata": {},
   "outputs": [],
   "source": [
    "from abc import ABC, abstractmethod\n",
    "\n",
    "\n",
    "class BiologicalSequence(ABC):\n",
    "\n",
    "    def __getitem__(self, slc):\n",
    "        if isinstance(slc, int):\n",
    "            return self[slc]\n",
    "        elif isinstance(slc, slice):\n",
    "            return self[slice]\n",
    "    \n",
    "    @abstractmethod\n",
    "    def check_alphabet(self):\n",
    "        pass\n",
    "    \n",
    "    def __str__(self):\n",
    "        return str(self)\n",
    "    \n",
    "    def __print__(self):\n",
    "        print(self)\n",
    "    \n",
    "    def __len__(self):\n",
    "        return len(self)\n",
    "    \n",
    "    \n",
    "class NucleicAcidSequence(BiologicalSequence):\n",
    "    \n",
    "    def __init__(self, seq):\n",
    "        self.seq = seq\n",
    "    \n",
    "    def check_alphabet(self):\n",
    "        correct = {\"A\", \"T\", \"G\", \"C\", \"U\", \"N\"}\n",
    "        seq = self.seq.upper()\n",
    "        incorrect = False\n",
    "        if \"U\" in seq and \"T\" in seq:\n",
    "            print(\"The sequence contains U and T\")\n",
    "            incorrect = True\n",
    "        for letter in seq:\n",
    "            if letter not in correct:\n",
    "                print(\"The sequence contains incorrect letters\")\n",
    "                incorrect = True\n",
    "                break\n",
    "        if not incorrect:\n",
    "            print(\"The sequence is correct\")\n",
    "            \n",
    "    def gc_content(self, bounds): \n",
    "        if isinstance(bounds, Number):\n",
    "            lower_bound, upper_bound = 0, bounds\n",
    "        elif isinstance(bounds, Iterable):\n",
    "            lower_bound, upper_bound = bounds\n",
    "        else:\n",
    "            raise TypeError(\"Invalid type\")     \n",
    "        total, gc = 0, 0\n",
    "        seq_slice = self.seq[lower_bound, upper_bound]\n",
    "        for letter in seq_slice:\n",
    "            total += 1\n",
    "            if letter in {\"G\", \"C\", \"g\", \"c\"}:\n",
    "                gc += 1\n",
    "        return gc / total\n",
    "    \n",
    "    def complement(self):\n",
    "        seq = self.seq.upper()\n",
    "        if \"U\" in seq and \"T\" in seq:\n",
    "            print(\"The sequence contains U and T\")\n",
    "        else:\n",
    "            if \"U\" in seq:\n",
    "                complement_dict = {\"A\": \"U\", \"a\": \"u\", \"G\": \"C\", \"g\": \"c\", \"C\": \"G\", \"c\": \"g\", \"U\": \"A\", \"u\": \"a\"}\n",
    "            else:\n",
    "                complement_dict = {\"A\": \"T\", \"a\": \"t\", \"T\": \"A\", \"t\": \"a\", \"G\": \"C\", \"g\": \"c\", \"C\": \"G\", \"c\": \"g\"}\n",
    "            complement_seq = \"\"\n",
    "            for letter in seq:\n",
    "                complement_seq += complement_dict[letter]\n",
    "            return complement_seq\n",
    "\n",
    "\n",
    "class DNASequence(NucleicAcidSequence):\n",
    "    def __init__(self, seq):\n",
    "        super().__init__(seq)\n",
    "    \n",
    "    def transcribe(self):\n",
    "        transcribe_dict = {\"A\": \"U\", \"a\": \"u\", \"G\": \"C\", \"g\": \"c\", \"C\": \"G\", \"c\": \"g\", \"T\": \"A\", \"t\": \"a\"}\n",
    "        transcribed = \"\"\n",
    "        for letter in self.seq[::-1]:\n",
    "            transcribed += transcribe_dict[letter]\n",
    "        return transcribed\n",
    "\n",
    "    \n",
    "class RNASequence(NucleicAcidSequence):\n",
    "    \n",
    "    def __init__(self, seq):\n",
    "        super().__init__(seq)\n",
    "\n",
    "        \n",
    "class AminoAcidSequence(BiologicalSequence):\n",
    "    \n",
    "    def __init__(self, seq):\n",
    "        self.seq = seq\n",
    "        \n",
    "    def check_alphabet(self):\n",
    "        correct = {\"A\", \"R\", \"N\", \"D\", \"C\", \"E\", \"Q\", \"G\", \"H\", \"I\", \"L\", \"K\", \"M\", \"F\", \"P\", \"S\", \"T\", \"W\" \"Y\", \"V\"}\n",
    "        seq = self.seq.upper()\n",
    "        incorrect = False\n",
    "        for letter in seq:\n",
    "            if letter not in correct:\n",
    "                print(\"The sequence contains incorrect letters\")\n",
    "                incorrect = True\n",
    "                break\n",
    "        if not incorrect:\n",
    "            print(\"The sequence is correct\")\n",
    "            \n",
    "    def molecular_weight(self):\n",
    "        weights = {'A': 71.04, 'C': 103.01, 'D': 115.03, 'E': 129.04, 'F': 147.07,\n",
    "       'G': 57.02, 'H': 137.06, 'I': 113.08, 'K': 128.09, 'L': 113.08,\n",
    "       'M': 131.04, 'N': 114.04, 'P': 97.05, 'Q': 128.06, 'R': 156.10,\n",
    "       'S': 87.03, 'T': 101.05, 'V': 99.07, 'W': 186.08, 'Y': 163.06 }\n",
    "        seq = self.seq.upper()\n",
    "        weight = sum(weights[a] for a in seq)\n",
    "        return weight\n",
    "    "
   ]
  },
  {
   "cell_type": "code",
   "execution_count": 194,
   "id": "a055b01e",
   "metadata": {},
   "outputs": [
    {
     "name": "stdout",
     "output_type": "stream",
     "text": [
      "The sequence is correct\n",
      "599.3100000000001\n"
     ]
    }
   ],
   "source": [
    "peptide = AminoAcidSequence(\"AAARTE\")\n",
    "peptide.check_alphabet()\n",
    "print(peptide.molecular_weight())"
   ]
  },
  {
   "cell_type": "code",
   "execution_count": 195,
   "id": "6f1a2da8",
   "metadata": {},
   "outputs": [
    {
     "name": "stdout",
     "output_type": "stream",
     "text": [
      "GCAAU\n",
      "The sequence is correct\n"
     ]
    }
   ],
   "source": [
    "dna = DNASequence(\"ATTGC\")\n",
    "print(dna.transcribe())\n",
    "dna.check_alphabet()"
   ]
  },
  {
   "cell_type": "code",
   "execution_count": 199,
   "id": "67343da1",
   "metadata": {},
   "outputs": [
    {
     "data": {
      "text/plain": [
       "'TAACG'"
      ]
     },
     "execution_count": 199,
     "metadata": {},
     "output_type": "execute_result"
    }
   ],
   "source": [
    "rna = RNASequence(\"ATTGC\")\n",
    "rna.complement()"
   ]
  }
 ],
 "metadata": {
  "kernelspec": {
   "display_name": "Python 3",
   "language": "python",
   "name": "python3"
  },
  "language_info": {
   "codemirror_mode": {
    "name": "ipython",
    "version": 3
   },
   "file_extension": ".py",
   "mimetype": "text/x-python",
   "name": "python",
   "nbconvert_exporter": "python",
   "pygments_lexer": "ipython3",
   "version": "3.8.8"
  }
 },
 "nbformat": 4,
 "nbformat_minor": 5
}
