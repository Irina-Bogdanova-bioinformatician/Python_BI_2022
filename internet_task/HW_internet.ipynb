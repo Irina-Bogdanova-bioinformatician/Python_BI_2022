{
  "cells": [
    {
      "cell_type": "markdown",
      "metadata": {
        "id": "view-in-github",
        "colab_type": "text"
      },
      "source": [
        "<a href=\"https://colab.research.google.com/github/Irina-Bogdanova-bioinformatician/Python_BI_2022/blob/Internet_task/internet_task/HW_internet.ipynb\" target=\"_parent\"><img src=\"https://colab.research.google.com/assets/colab-badge.svg\" alt=\"Open In Colab\"/></a>"
      ]
    },
    {
      "cell_type": "markdown",
      "id": "4617850b-76fe-4314-a959-5710bf8b0410",
      "metadata": {
        "id": "4617850b-76fe-4314-a959-5710bf8b0410"
      },
      "source": [
        "# Задание 1 (6 баллов)"
      ]
    },
    {
      "cell_type": "markdown",
      "id": "1008bff2-4681-4f7b-b227-ae4c08a5793f",
      "metadata": {
        "id": "1008bff2-4681-4f7b-b227-ae4c08a5793f"
      },
      "source": [
        "В данном задании мы будем работать со [списком 250 лучших фильмов IMDb](https://www.imdb.com/chart/top/?ref_=nv_mp_mv250)\n",
        "\n",
        "1. Выведите топ-4 *фильма* **по количеству оценок пользователей** и **количество этих оценок** (1 балл)\n",
        "2. Выведите топ-4 лучших *года* (**по среднему рейтингу фильмов в этом году**) и **средний рейтинг** (1 балл)\n",
        "3. Постройте отсортированный **barplot**, где показано **количество фильмов** из списка **для каждого режисёра** (только для режиссёров с более чем 2 фильмами в списке) (1 балл)\n",
        "4. Выведите топ-4 самых популярных *режиссёра* (**по общему числу людей оценивших их фильмы**) (2 балла)\n",
        "5. Сохраните данные по всем 250 фильмам в виде таблицы с колонками (name, rank, year, rating, n_reviews, director) в любом формате (2 балла)\n",
        "\n",
        "Использовать можно что-угодно, но полученные данные должны быть +- актуальными на момент сдачи задания"
      ]
    },
    {
      "cell_type": "code",
      "execution_count": null,
      "id": "ef5a6999-e51a-4147-8365-a29853689f52",
      "metadata": {
        "id": "ef5a6999-e51a-4147-8365-a29853689f52"
      },
      "outputs": [],
      "source": [
        "import requests\n",
        "from bs4 import BeautifulSoup\n",
        "import pandas as pd"
      ]
    },
    {
      "cell_type": "code",
      "source": [
        "response = requests.get(\"https://www.imdb.com/chart/top/?ref_=nv_mp_mv250\")\n",
        "content = BeautifulSoup(response.content, \"lxml\")\n"
      ],
      "metadata": {
        "id": "aT0KMzGprfbs"
      },
      "id": "aT0KMzGprfbs",
      "execution_count": null,
      "outputs": []
    },
    {
      "cell_type": "code",
      "source": [
        "movies_table = content.find(\"table\")\n",
        "\n",
        "movies_info_1 = movies_table.find_all(\"a\", title=True) # name and director info\n",
        "movies_info_2 = movies_table.find_all(\"span\", class_=\"secondaryInfo\") # year\n",
        "movies_info_3 = movies_table.find_all(\"strong\") # rating, n_reviews"
      ],
      "metadata": {
        "id": "_nB8JDYDudUY"
      },
      "id": "_nB8JDYDudUY",
      "execution_count": null,
      "outputs": []
    },
    {
      "cell_type": "markdown",
      "source": [
        "**Сохраните данные по всем 250 фильмам в виде таблицы с колонками (name, rank, year, rating, n_reviews, director) в любом формате**"
      ],
      "metadata": {
        "id": "tlwXrWiKhRN-"
      },
      "id": "tlwXrWiKhRN-"
    },
    {
      "cell_type": "code",
      "source": [
        "movies_info_filtered = []\n",
        "rank = 1\n",
        "# we need name, rank, year, rating, n_reviews, director\n",
        "for info_1, info_2, info_3 in zip(movies_info_1, movies_info_2, movies_info_3):\n",
        "    name = info_1.string\n",
        "    director = info_1.get(\"title\").split(\"(\")[0].strip()\n",
        "    year = info_2.string[1:-1]\n",
        "    rating = info_3.string\n",
        "    n_reviews = info_3.get(\"title\").split(\" \")[3].replace(\",\", \"\")\n",
        "    movies_info_filtered.append([rank, name, year, director, rating, n_reviews])\n",
        "    rank += 1\n",
        "\n",
        "df = pd.DataFrame(movies_info_filtered, columns=[\"rank\", \"name\", \"year\", \"director\", \"rating\", \"n_reviews\"], )\n",
        "df"
      ],
      "metadata": {
        "colab": {
          "base_uri": "https://localhost:8080/",
          "height": 424
        },
        "id": "Lp0jdDWuzGXA",
        "outputId": "d9ef4668-2be8-482e-e28e-53baf1b031bf"
      },
      "id": "Lp0jdDWuzGXA",
      "execution_count": null,
      "outputs": [
        {
          "output_type": "execute_result",
          "data": {
            "text/plain": [
              "     rank                      name  year              director rating  \\\n",
              "0       1  The Shawshank Redemption  1994        Frank Darabont    9.2   \n",
              "1       2             The Godfather  1972  Francis Ford Coppola    9.2   \n",
              "2       3           The Dark Knight  2008     Christopher Nolan    9.0   \n",
              "3       4     The Godfather Part II  1974  Francis Ford Coppola    9.0   \n",
              "4       5              12 Angry Men  1957          Sidney Lumet    9.0   \n",
              "..    ...                       ...   ...                   ...    ...   \n",
              "245   246            The Iron Giant  1999             Brad Bird    8.0   \n",
              "246   247                  The Help  2011           Tate Taylor    8.0   \n",
              "247   248                   Aladdin  1992          Ron Clements    8.0   \n",
              "248   249               Dersu Uzala  1975        Akira Kurosawa    8.0   \n",
              "249   250        Dances with Wolves  1990         Kevin Costner    8.0   \n",
              "\n",
              "    n_reviews  \n",
              "0     2725444  \n",
              "1     1894666  \n",
              "2     2698316  \n",
              "3     1292118  \n",
              "4      805958  \n",
              "..        ...  \n",
              "245    206486  \n",
              "246    469204  \n",
              "247    432189  \n",
              "248     31498  \n",
              "249    274065  \n",
              "\n",
              "[250 rows x 6 columns]"
            ],
            "text/html": [
              "\n",
              "  <div id=\"df-ee60609b-7e0a-4fc0-a8ce-0f7c47004ff7\">\n",
              "    <div class=\"colab-df-container\">\n",
              "      <div>\n",
              "<style scoped>\n",
              "    .dataframe tbody tr th:only-of-type {\n",
              "        vertical-align: middle;\n",
              "    }\n",
              "\n",
              "    .dataframe tbody tr th {\n",
              "        vertical-align: top;\n",
              "    }\n",
              "\n",
              "    .dataframe thead th {\n",
              "        text-align: right;\n",
              "    }\n",
              "</style>\n",
              "<table border=\"1\" class=\"dataframe\">\n",
              "  <thead>\n",
              "    <tr style=\"text-align: right;\">\n",
              "      <th></th>\n",
              "      <th>rank</th>\n",
              "      <th>name</th>\n",
              "      <th>year</th>\n",
              "      <th>director</th>\n",
              "      <th>rating</th>\n",
              "      <th>n_reviews</th>\n",
              "    </tr>\n",
              "  </thead>\n",
              "  <tbody>\n",
              "    <tr>\n",
              "      <th>0</th>\n",
              "      <td>1</td>\n",
              "      <td>The Shawshank Redemption</td>\n",
              "      <td>1994</td>\n",
              "      <td>Frank Darabont</td>\n",
              "      <td>9.2</td>\n",
              "      <td>2725444</td>\n",
              "    </tr>\n",
              "    <tr>\n",
              "      <th>1</th>\n",
              "      <td>2</td>\n",
              "      <td>The Godfather</td>\n",
              "      <td>1972</td>\n",
              "      <td>Francis Ford Coppola</td>\n",
              "      <td>9.2</td>\n",
              "      <td>1894666</td>\n",
              "    </tr>\n",
              "    <tr>\n",
              "      <th>2</th>\n",
              "      <td>3</td>\n",
              "      <td>The Dark Knight</td>\n",
              "      <td>2008</td>\n",
              "      <td>Christopher Nolan</td>\n",
              "      <td>9.0</td>\n",
              "      <td>2698316</td>\n",
              "    </tr>\n",
              "    <tr>\n",
              "      <th>3</th>\n",
              "      <td>4</td>\n",
              "      <td>The Godfather Part II</td>\n",
              "      <td>1974</td>\n",
              "      <td>Francis Ford Coppola</td>\n",
              "      <td>9.0</td>\n",
              "      <td>1292118</td>\n",
              "    </tr>\n",
              "    <tr>\n",
              "      <th>4</th>\n",
              "      <td>5</td>\n",
              "      <td>12 Angry Men</td>\n",
              "      <td>1957</td>\n",
              "      <td>Sidney Lumet</td>\n",
              "      <td>9.0</td>\n",
              "      <td>805958</td>\n",
              "    </tr>\n",
              "    <tr>\n",
              "      <th>...</th>\n",
              "      <td>...</td>\n",
              "      <td>...</td>\n",
              "      <td>...</td>\n",
              "      <td>...</td>\n",
              "      <td>...</td>\n",
              "      <td>...</td>\n",
              "    </tr>\n",
              "    <tr>\n",
              "      <th>245</th>\n",
              "      <td>246</td>\n",
              "      <td>The Iron Giant</td>\n",
              "      <td>1999</td>\n",
              "      <td>Brad Bird</td>\n",
              "      <td>8.0</td>\n",
              "      <td>206486</td>\n",
              "    </tr>\n",
              "    <tr>\n",
              "      <th>246</th>\n",
              "      <td>247</td>\n",
              "      <td>The Help</td>\n",
              "      <td>2011</td>\n",
              "      <td>Tate Taylor</td>\n",
              "      <td>8.0</td>\n",
              "      <td>469204</td>\n",
              "    </tr>\n",
              "    <tr>\n",
              "      <th>247</th>\n",
              "      <td>248</td>\n",
              "      <td>Aladdin</td>\n",
              "      <td>1992</td>\n",
              "      <td>Ron Clements</td>\n",
              "      <td>8.0</td>\n",
              "      <td>432189</td>\n",
              "    </tr>\n",
              "    <tr>\n",
              "      <th>248</th>\n",
              "      <td>249</td>\n",
              "      <td>Dersu Uzala</td>\n",
              "      <td>1975</td>\n",
              "      <td>Akira Kurosawa</td>\n",
              "      <td>8.0</td>\n",
              "      <td>31498</td>\n",
              "    </tr>\n",
              "    <tr>\n",
              "      <th>249</th>\n",
              "      <td>250</td>\n",
              "      <td>Dances with Wolves</td>\n",
              "      <td>1990</td>\n",
              "      <td>Kevin Costner</td>\n",
              "      <td>8.0</td>\n",
              "      <td>274065</td>\n",
              "    </tr>\n",
              "  </tbody>\n",
              "</table>\n",
              "<p>250 rows × 6 columns</p>\n",
              "</div>\n",
              "      <button class=\"colab-df-convert\" onclick=\"convertToInteractive('df-ee60609b-7e0a-4fc0-a8ce-0f7c47004ff7')\"\n",
              "              title=\"Convert this dataframe to an interactive table.\"\n",
              "              style=\"display:none;\">\n",
              "        \n",
              "  <svg xmlns=\"http://www.w3.org/2000/svg\" height=\"24px\"viewBox=\"0 0 24 24\"\n",
              "       width=\"24px\">\n",
              "    <path d=\"M0 0h24v24H0V0z\" fill=\"none\"/>\n",
              "    <path d=\"M18.56 5.44l.94 2.06.94-2.06 2.06-.94-2.06-.94-.94-2.06-.94 2.06-2.06.94zm-11 1L8.5 8.5l.94-2.06 2.06-.94-2.06-.94L8.5 2.5l-.94 2.06-2.06.94zm10 10l.94 2.06.94-2.06 2.06-.94-2.06-.94-.94-2.06-.94 2.06-2.06.94z\"/><path d=\"M17.41 7.96l-1.37-1.37c-.4-.4-.92-.59-1.43-.59-.52 0-1.04.2-1.43.59L10.3 9.45l-7.72 7.72c-.78.78-.78 2.05 0 2.83L4 21.41c.39.39.9.59 1.41.59.51 0 1.02-.2 1.41-.59l7.78-7.78 2.81-2.81c.8-.78.8-2.07 0-2.86zM5.41 20L4 18.59l7.72-7.72 1.47 1.35L5.41 20z\"/>\n",
              "  </svg>\n",
              "      </button>\n",
              "      \n",
              "  <style>\n",
              "    .colab-df-container {\n",
              "      display:flex;\n",
              "      flex-wrap:wrap;\n",
              "      gap: 12px;\n",
              "    }\n",
              "\n",
              "    .colab-df-convert {\n",
              "      background-color: #E8F0FE;\n",
              "      border: none;\n",
              "      border-radius: 50%;\n",
              "      cursor: pointer;\n",
              "      display: none;\n",
              "      fill: #1967D2;\n",
              "      height: 32px;\n",
              "      padding: 0 0 0 0;\n",
              "      width: 32px;\n",
              "    }\n",
              "\n",
              "    .colab-df-convert:hover {\n",
              "      background-color: #E2EBFA;\n",
              "      box-shadow: 0px 1px 2px rgba(60, 64, 67, 0.3), 0px 1px 3px 1px rgba(60, 64, 67, 0.15);\n",
              "      fill: #174EA6;\n",
              "    }\n",
              "\n",
              "    [theme=dark] .colab-df-convert {\n",
              "      background-color: #3B4455;\n",
              "      fill: #D2E3FC;\n",
              "    }\n",
              "\n",
              "    [theme=dark] .colab-df-convert:hover {\n",
              "      background-color: #434B5C;\n",
              "      box-shadow: 0px 1px 3px 1px rgba(0, 0, 0, 0.15);\n",
              "      filter: drop-shadow(0px 1px 2px rgba(0, 0, 0, 0.3));\n",
              "      fill: #FFFFFF;\n",
              "    }\n",
              "  </style>\n",
              "\n",
              "      <script>\n",
              "        const buttonEl =\n",
              "          document.querySelector('#df-ee60609b-7e0a-4fc0-a8ce-0f7c47004ff7 button.colab-df-convert');\n",
              "        buttonEl.style.display =\n",
              "          google.colab.kernel.accessAllowed ? 'block' : 'none';\n",
              "\n",
              "        async function convertToInteractive(key) {\n",
              "          const element = document.querySelector('#df-ee60609b-7e0a-4fc0-a8ce-0f7c47004ff7');\n",
              "          const dataTable =\n",
              "            await google.colab.kernel.invokeFunction('convertToInteractive',\n",
              "                                                     [key], {});\n",
              "          if (!dataTable) return;\n",
              "\n",
              "          const docLinkHtml = 'Like what you see? Visit the ' +\n",
              "            '<a target=\"_blank\" href=https://colab.research.google.com/notebooks/data_table.ipynb>data table notebook</a>'\n",
              "            + ' to learn more about interactive tables.';\n",
              "          element.innerHTML = '';\n",
              "          dataTable['output_type'] = 'display_data';\n",
              "          await google.colab.output.renderOutput(dataTable, element);\n",
              "          const docLink = document.createElement('div');\n",
              "          docLink.innerHTML = docLinkHtml;\n",
              "          element.appendChild(docLink);\n",
              "        }\n",
              "      </script>\n",
              "    </div>\n",
              "  </div>\n",
              "  "
            ]
          },
          "metadata": {},
          "execution_count": 5
        }
      ]
    },
    {
      "cell_type": "markdown",
      "source": [
        "**Выведите топ-4 фильма по количеству оценок пользователей и количество этих оценок**"
      ],
      "metadata": {
        "id": "Az_8lpIZhWnc"
      },
      "id": "Az_8lpIZhWnc"
    },
    {
      "cell_type": "code",
      "source": [
        "df = df.astype({'rating': float, 'n_reviews': int})\n",
        "df.dtypes"
      ],
      "metadata": {
        "colab": {
          "base_uri": "https://localhost:8080/"
        },
        "id": "kspd6JnVjtZp",
        "outputId": "e080e8c3-f12c-426c-e70f-3ba7a4940629"
      },
      "id": "kspd6JnVjtZp",
      "execution_count": null,
      "outputs": [
        {
          "output_type": "execute_result",
          "data": {
            "text/plain": [
              "rank           int64\n",
              "name          object\n",
              "year          object\n",
              "director      object\n",
              "rating       float64\n",
              "n_reviews      int64\n",
              "dtype: object"
            ]
          },
          "metadata": {},
          "execution_count": 6
        }
      ]
    },
    {
      "cell_type": "code",
      "source": [
        "df.sort_values(by=['n_reviews'], ascending=False).iloc[:4,[1, 5]]\n"
      ],
      "metadata": {
        "colab": {
          "base_uri": "https://localhost:8080/",
          "height": 175
        },
        "id": "WkaWrRv0hV7J",
        "outputId": "770918ab-3911-46f4-c14d-60cca981f810"
      },
      "id": "WkaWrRv0hV7J",
      "execution_count": null,
      "outputs": [
        {
          "output_type": "execute_result",
          "data": {
            "text/plain": [
              "                        name  n_reviews\n",
              "0   The Shawshank Redemption    2725444\n",
              "2            The Dark Knight    2698316\n",
              "13                 Inception    2394824\n",
              "11                Fight Club    2168576"
            ],
            "text/html": [
              "\n",
              "  <div id=\"df-2f259b69-533d-44d8-88b8-7a76ff86cf28\">\n",
              "    <div class=\"colab-df-container\">\n",
              "      <div>\n",
              "<style scoped>\n",
              "    .dataframe tbody tr th:only-of-type {\n",
              "        vertical-align: middle;\n",
              "    }\n",
              "\n",
              "    .dataframe tbody tr th {\n",
              "        vertical-align: top;\n",
              "    }\n",
              "\n",
              "    .dataframe thead th {\n",
              "        text-align: right;\n",
              "    }\n",
              "</style>\n",
              "<table border=\"1\" class=\"dataframe\">\n",
              "  <thead>\n",
              "    <tr style=\"text-align: right;\">\n",
              "      <th></th>\n",
              "      <th>name</th>\n",
              "      <th>n_reviews</th>\n",
              "    </tr>\n",
              "  </thead>\n",
              "  <tbody>\n",
              "    <tr>\n",
              "      <th>0</th>\n",
              "      <td>The Shawshank Redemption</td>\n",
              "      <td>2725444</td>\n",
              "    </tr>\n",
              "    <tr>\n",
              "      <th>2</th>\n",
              "      <td>The Dark Knight</td>\n",
              "      <td>2698316</td>\n",
              "    </tr>\n",
              "    <tr>\n",
              "      <th>13</th>\n",
              "      <td>Inception</td>\n",
              "      <td>2394824</td>\n",
              "    </tr>\n",
              "    <tr>\n",
              "      <th>11</th>\n",
              "      <td>Fight Club</td>\n",
              "      <td>2168576</td>\n",
              "    </tr>\n",
              "  </tbody>\n",
              "</table>\n",
              "</div>\n",
              "      <button class=\"colab-df-convert\" onclick=\"convertToInteractive('df-2f259b69-533d-44d8-88b8-7a76ff86cf28')\"\n",
              "              title=\"Convert this dataframe to an interactive table.\"\n",
              "              style=\"display:none;\">\n",
              "        \n",
              "  <svg xmlns=\"http://www.w3.org/2000/svg\" height=\"24px\"viewBox=\"0 0 24 24\"\n",
              "       width=\"24px\">\n",
              "    <path d=\"M0 0h24v24H0V0z\" fill=\"none\"/>\n",
              "    <path d=\"M18.56 5.44l.94 2.06.94-2.06 2.06-.94-2.06-.94-.94-2.06-.94 2.06-2.06.94zm-11 1L8.5 8.5l.94-2.06 2.06-.94-2.06-.94L8.5 2.5l-.94 2.06-2.06.94zm10 10l.94 2.06.94-2.06 2.06-.94-2.06-.94-.94-2.06-.94 2.06-2.06.94z\"/><path d=\"M17.41 7.96l-1.37-1.37c-.4-.4-.92-.59-1.43-.59-.52 0-1.04.2-1.43.59L10.3 9.45l-7.72 7.72c-.78.78-.78 2.05 0 2.83L4 21.41c.39.39.9.59 1.41.59.51 0 1.02-.2 1.41-.59l7.78-7.78 2.81-2.81c.8-.78.8-2.07 0-2.86zM5.41 20L4 18.59l7.72-7.72 1.47 1.35L5.41 20z\"/>\n",
              "  </svg>\n",
              "      </button>\n",
              "      \n",
              "  <style>\n",
              "    .colab-df-container {\n",
              "      display:flex;\n",
              "      flex-wrap:wrap;\n",
              "      gap: 12px;\n",
              "    }\n",
              "\n",
              "    .colab-df-convert {\n",
              "      background-color: #E8F0FE;\n",
              "      border: none;\n",
              "      border-radius: 50%;\n",
              "      cursor: pointer;\n",
              "      display: none;\n",
              "      fill: #1967D2;\n",
              "      height: 32px;\n",
              "      padding: 0 0 0 0;\n",
              "      width: 32px;\n",
              "    }\n",
              "\n",
              "    .colab-df-convert:hover {\n",
              "      background-color: #E2EBFA;\n",
              "      box-shadow: 0px 1px 2px rgba(60, 64, 67, 0.3), 0px 1px 3px 1px rgba(60, 64, 67, 0.15);\n",
              "      fill: #174EA6;\n",
              "    }\n",
              "\n",
              "    [theme=dark] .colab-df-convert {\n",
              "      background-color: #3B4455;\n",
              "      fill: #D2E3FC;\n",
              "    }\n",
              "\n",
              "    [theme=dark] .colab-df-convert:hover {\n",
              "      background-color: #434B5C;\n",
              "      box-shadow: 0px 1px 3px 1px rgba(0, 0, 0, 0.15);\n",
              "      filter: drop-shadow(0px 1px 2px rgba(0, 0, 0, 0.3));\n",
              "      fill: #FFFFFF;\n",
              "    }\n",
              "  </style>\n",
              "\n",
              "      <script>\n",
              "        const buttonEl =\n",
              "          document.querySelector('#df-2f259b69-533d-44d8-88b8-7a76ff86cf28 button.colab-df-convert');\n",
              "        buttonEl.style.display =\n",
              "          google.colab.kernel.accessAllowed ? 'block' : 'none';\n",
              "\n",
              "        async function convertToInteractive(key) {\n",
              "          const element = document.querySelector('#df-2f259b69-533d-44d8-88b8-7a76ff86cf28');\n",
              "          const dataTable =\n",
              "            await google.colab.kernel.invokeFunction('convertToInteractive',\n",
              "                                                     [key], {});\n",
              "          if (!dataTable) return;\n",
              "\n",
              "          const docLinkHtml = 'Like what you see? Visit the ' +\n",
              "            '<a target=\"_blank\" href=https://colab.research.google.com/notebooks/data_table.ipynb>data table notebook</a>'\n",
              "            + ' to learn more about interactive tables.';\n",
              "          element.innerHTML = '';\n",
              "          dataTable['output_type'] = 'display_data';\n",
              "          await google.colab.output.renderOutput(dataTable, element);\n",
              "          const docLink = document.createElement('div');\n",
              "          docLink.innerHTML = docLinkHtml;\n",
              "          element.appendChild(docLink);\n",
              "        }\n",
              "      </script>\n",
              "    </div>\n",
              "  </div>\n",
              "  "
            ]
          },
          "metadata": {},
          "execution_count": 7
        }
      ]
    },
    {
      "cell_type": "markdown",
      "source": [
        "**Выведите топ-4 лучших года (по среднему рейтингу фильмов в этом году) и средний рейтинг**"
      ],
      "metadata": {
        "id": "Wl5doij4nuSR"
      },
      "id": "Wl5doij4nuSR"
    },
    {
      "cell_type": "code",
      "source": [
        "df[['year', 'rating']].groupby('year').mean().sort_values(by=['rating'], ascending=False).iloc[:4,:]"
      ],
      "metadata": {
        "colab": {
          "base_uri": "https://localhost:8080/",
          "height": 206
        },
        "id": "EUblXeudn3fa",
        "outputId": "4dd76662-73d4-41d0-b74e-5424f14b9aa8"
      },
      "id": "EUblXeudn3fa",
      "execution_count": null,
      "outputs": [
        {
          "output_type": "execute_result",
          "data": {
            "text/plain": [
              "      rating\n",
              "year        \n",
              "1972    9.20\n",
              "1994    8.76\n",
              "1974    8.55\n",
              "1991    8.55"
            ],
            "text/html": [
              "\n",
              "  <div id=\"df-3be51721-2a8f-4dff-97b6-4b118f585c7e\">\n",
              "    <div class=\"colab-df-container\">\n",
              "      <div>\n",
              "<style scoped>\n",
              "    .dataframe tbody tr th:only-of-type {\n",
              "        vertical-align: middle;\n",
              "    }\n",
              "\n",
              "    .dataframe tbody tr th {\n",
              "        vertical-align: top;\n",
              "    }\n",
              "\n",
              "    .dataframe thead th {\n",
              "        text-align: right;\n",
              "    }\n",
              "</style>\n",
              "<table border=\"1\" class=\"dataframe\">\n",
              "  <thead>\n",
              "    <tr style=\"text-align: right;\">\n",
              "      <th></th>\n",
              "      <th>rating</th>\n",
              "    </tr>\n",
              "    <tr>\n",
              "      <th>year</th>\n",
              "      <th></th>\n",
              "    </tr>\n",
              "  </thead>\n",
              "  <tbody>\n",
              "    <tr>\n",
              "      <th>1972</th>\n",
              "      <td>9.20</td>\n",
              "    </tr>\n",
              "    <tr>\n",
              "      <th>1994</th>\n",
              "      <td>8.76</td>\n",
              "    </tr>\n",
              "    <tr>\n",
              "      <th>1974</th>\n",
              "      <td>8.55</td>\n",
              "    </tr>\n",
              "    <tr>\n",
              "      <th>1991</th>\n",
              "      <td>8.55</td>\n",
              "    </tr>\n",
              "  </tbody>\n",
              "</table>\n",
              "</div>\n",
              "      <button class=\"colab-df-convert\" onclick=\"convertToInteractive('df-3be51721-2a8f-4dff-97b6-4b118f585c7e')\"\n",
              "              title=\"Convert this dataframe to an interactive table.\"\n",
              "              style=\"display:none;\">\n",
              "        \n",
              "  <svg xmlns=\"http://www.w3.org/2000/svg\" height=\"24px\"viewBox=\"0 0 24 24\"\n",
              "       width=\"24px\">\n",
              "    <path d=\"M0 0h24v24H0V0z\" fill=\"none\"/>\n",
              "    <path d=\"M18.56 5.44l.94 2.06.94-2.06 2.06-.94-2.06-.94-.94-2.06-.94 2.06-2.06.94zm-11 1L8.5 8.5l.94-2.06 2.06-.94-2.06-.94L8.5 2.5l-.94 2.06-2.06.94zm10 10l.94 2.06.94-2.06 2.06-.94-2.06-.94-.94-2.06-.94 2.06-2.06.94z\"/><path d=\"M17.41 7.96l-1.37-1.37c-.4-.4-.92-.59-1.43-.59-.52 0-1.04.2-1.43.59L10.3 9.45l-7.72 7.72c-.78.78-.78 2.05 0 2.83L4 21.41c.39.39.9.59 1.41.59.51 0 1.02-.2 1.41-.59l7.78-7.78 2.81-2.81c.8-.78.8-2.07 0-2.86zM5.41 20L4 18.59l7.72-7.72 1.47 1.35L5.41 20z\"/>\n",
              "  </svg>\n",
              "      </button>\n",
              "      \n",
              "  <style>\n",
              "    .colab-df-container {\n",
              "      display:flex;\n",
              "      flex-wrap:wrap;\n",
              "      gap: 12px;\n",
              "    }\n",
              "\n",
              "    .colab-df-convert {\n",
              "      background-color: #E8F0FE;\n",
              "      border: none;\n",
              "      border-radius: 50%;\n",
              "      cursor: pointer;\n",
              "      display: none;\n",
              "      fill: #1967D2;\n",
              "      height: 32px;\n",
              "      padding: 0 0 0 0;\n",
              "      width: 32px;\n",
              "    }\n",
              "\n",
              "    .colab-df-convert:hover {\n",
              "      background-color: #E2EBFA;\n",
              "      box-shadow: 0px 1px 2px rgba(60, 64, 67, 0.3), 0px 1px 3px 1px rgba(60, 64, 67, 0.15);\n",
              "      fill: #174EA6;\n",
              "    }\n",
              "\n",
              "    [theme=dark] .colab-df-convert {\n",
              "      background-color: #3B4455;\n",
              "      fill: #D2E3FC;\n",
              "    }\n",
              "\n",
              "    [theme=dark] .colab-df-convert:hover {\n",
              "      background-color: #434B5C;\n",
              "      box-shadow: 0px 1px 3px 1px rgba(0, 0, 0, 0.15);\n",
              "      filter: drop-shadow(0px 1px 2px rgba(0, 0, 0, 0.3));\n",
              "      fill: #FFFFFF;\n",
              "    }\n",
              "  </style>\n",
              "\n",
              "      <script>\n",
              "        const buttonEl =\n",
              "          document.querySelector('#df-3be51721-2a8f-4dff-97b6-4b118f585c7e button.colab-df-convert');\n",
              "        buttonEl.style.display =\n",
              "          google.colab.kernel.accessAllowed ? 'block' : 'none';\n",
              "\n",
              "        async function convertToInteractive(key) {\n",
              "          const element = document.querySelector('#df-3be51721-2a8f-4dff-97b6-4b118f585c7e');\n",
              "          const dataTable =\n",
              "            await google.colab.kernel.invokeFunction('convertToInteractive',\n",
              "                                                     [key], {});\n",
              "          if (!dataTable) return;\n",
              "\n",
              "          const docLinkHtml = 'Like what you see? Visit the ' +\n",
              "            '<a target=\"_blank\" href=https://colab.research.google.com/notebooks/data_table.ipynb>data table notebook</a>'\n",
              "            + ' to learn more about interactive tables.';\n",
              "          element.innerHTML = '';\n",
              "          dataTable['output_type'] = 'display_data';\n",
              "          await google.colab.output.renderOutput(dataTable, element);\n",
              "          const docLink = document.createElement('div');\n",
              "          docLink.innerHTML = docLinkHtml;\n",
              "          element.appendChild(docLink);\n",
              "        }\n",
              "      </script>\n",
              "    </div>\n",
              "  </div>\n",
              "  "
            ]
          },
          "metadata": {},
          "execution_count": 8
        }
      ]
    },
    {
      "cell_type": "markdown",
      "source": [
        "**Постройте отсортированный barplot, где показано количество фильмов из списка для каждого режисёра (только для режиссёров с более чем 2 фильмами в списке)**"
      ],
      "metadata": {
        "id": "3F2uSRDzyjRw"
      },
      "id": "3F2uSRDzyjRw"
    },
    {
      "cell_type": "code",
      "source": [
        "df['director'].value_counts()[df['director'].value_counts() > 2].plot.bar(title='Количество фильмов для режиссеров из top 250 IMDb')"
      ],
      "metadata": {
        "colab": {
          "base_uri": "https://localhost:8080/",
          "height": 600
        },
        "id": "ZMVjKgAJyji2",
        "outputId": "faf56a50-ae72-468d-fe8c-a5d6a82f824f"
      },
      "id": "ZMVjKgAJyji2",
      "execution_count": null,
      "outputs": [
        {
          "output_type": "execute_result",
          "data": {
            "text/plain": [
              "<Axes: title={'center': 'Количество фильмов для режиссеров из top 250 IMDb'}>"
            ]
          },
          "metadata": {},
          "execution_count": 12
        },
        {
          "output_type": "display_data",
          "data": {
            "text/plain": [
              "<Figure size 640x480 with 1 Axes>"
            ],
            "image/png": "[encoded data removed]"
          },
          "metadata": {}
        }
      ]
    },
    {
      "cell_type": "markdown",
      "source": [
        "**Выведите топ-4 самых популярных режиссёра (по общему числу людей, оценивших их фильмы)**"
      ],
      "metadata": {
        "id": "Z4M3-qMYizxa"
      },
      "id": "Z4M3-qMYizxa"
    },
    {
      "cell_type": "code",
      "source": [
        "df[['director', 'n_reviews']].groupby('director').sum().sort_values(by=['n_reviews'], ascending=False).iloc[:4,:]"
      ],
      "metadata": {
        "colab": {
          "base_uri": "https://localhost:8080/",
          "height": 206
        },
        "id": "eopqjXyki0Ah",
        "outputId": "518d0f95-1184-46c7-82cc-a390d1308568"
      },
      "id": "eopqjXyki0Ah",
      "execution_count": null,
      "outputs": [
        {
          "output_type": "execute_result",
          "data": {
            "text/plain": [
              "                   n_reviews\n",
              "director                    \n",
              "Christopher Nolan   12816067\n",
              "Quentin Tarantino    7329565\n",
              "Steven Spielberg     7174633\n",
              "Martin Scorsese      7071972"
            ],
            "text/html": [
              "\n",
              "  <div id=\"df-b7136f1c-212a-4d57-ad69-d3f6bdeda018\">\n",
              "    <div class=\"colab-df-container\">\n",
              "      <div>\n",
              "<style scoped>\n",
              "    .dataframe tbody tr th:only-of-type {\n",
              "        vertical-align: middle;\n",
              "    }\n",
              "\n",
              "    .dataframe tbody tr th {\n",
              "        vertical-align: top;\n",
              "    }\n",
              "\n",
              "    .dataframe thead th {\n",
              "        text-align: right;\n",
              "    }\n",
              "</style>\n",
              "<table border=\"1\" class=\"dataframe\">\n",
              "  <thead>\n",
              "    <tr style=\"text-align: right;\">\n",
              "      <th></th>\n",
              "      <th>n_reviews</th>\n",
              "    </tr>\n",
              "    <tr>\n",
              "      <th>director</th>\n",
              "      <th></th>\n",
              "    </tr>\n",
              "  </thead>\n",
              "  <tbody>\n",
              "    <tr>\n",
              "      <th>Christopher Nolan</th>\n",
              "      <td>12816067</td>\n",
              "    </tr>\n",
              "    <tr>\n",
              "      <th>Quentin Tarantino</th>\n",
              "      <td>7329565</td>\n",
              "    </tr>\n",
              "    <tr>\n",
              "      <th>Steven Spielberg</th>\n",
              "      <td>7174633</td>\n",
              "    </tr>\n",
              "    <tr>\n",
              "      <th>Martin Scorsese</th>\n",
              "      <td>7071972</td>\n",
              "    </tr>\n",
              "  </tbody>\n",
              "</table>\n",
              "</div>\n",
              "      <button class=\"colab-df-convert\" onclick=\"convertToInteractive('df-b7136f1c-212a-4d57-ad69-d3f6bdeda018')\"\n",
              "              title=\"Convert this dataframe to an interactive table.\"\n",
              "              style=\"display:none;\">\n",
              "        \n",
              "  <svg xmlns=\"http://www.w3.org/2000/svg\" height=\"24px\"viewBox=\"0 0 24 24\"\n",
              "       width=\"24px\">\n",
              "    <path d=\"M0 0h24v24H0V0z\" fill=\"none\"/>\n",
              "    <path d=\"M18.56 5.44l.94 2.06.94-2.06 2.06-.94-2.06-.94-.94-2.06-.94 2.06-2.06.94zm-11 1L8.5 8.5l.94-2.06 2.06-.94-2.06-.94L8.5 2.5l-.94 2.06-2.06.94zm10 10l.94 2.06.94-2.06 2.06-.94-2.06-.94-.94-2.06-.94 2.06-2.06.94z\"/><path d=\"M17.41 7.96l-1.37-1.37c-.4-.4-.92-.59-1.43-.59-.52 0-1.04.2-1.43.59L10.3 9.45l-7.72 7.72c-.78.78-.78 2.05 0 2.83L4 21.41c.39.39.9.59 1.41.59.51 0 1.02-.2 1.41-.59l7.78-7.78 2.81-2.81c.8-.78.8-2.07 0-2.86zM5.41 20L4 18.59l7.72-7.72 1.47 1.35L5.41 20z\"/>\n",
              "  </svg>\n",
              "      </button>\n",
              "      \n",
              "  <style>\n",
              "    .colab-df-container {\n",
              "      display:flex;\n",
              "      flex-wrap:wrap;\n",
              "      gap: 12px;\n",
              "    }\n",
              "\n",
              "    .colab-df-convert {\n",
              "      background-color: #E8F0FE;\n",
              "      border: none;\n",
              "      border-radius: 50%;\n",
              "      cursor: pointer;\n",
              "      display: none;\n",
              "      fill: #1967D2;\n",
              "      height: 32px;\n",
              "      padding: 0 0 0 0;\n",
              "      width: 32px;\n",
              "    }\n",
              "\n",
              "    .colab-df-convert:hover {\n",
              "      background-color: #E2EBFA;\n",
              "      box-shadow: 0px 1px 2px rgba(60, 64, 67, 0.3), 0px 1px 3px 1px rgba(60, 64, 67, 0.15);\n",
              "      fill: #174EA6;\n",
              "    }\n",
              "\n",
              "    [theme=dark] .colab-df-convert {\n",
              "      background-color: #3B4455;\n",
              "      fill: #D2E3FC;\n",
              "    }\n",
              "\n",
              "    [theme=dark] .colab-df-convert:hover {\n",
              "      background-color: #434B5C;\n",
              "      box-shadow: 0px 1px 3px 1px rgba(0, 0, 0, 0.15);\n",
              "      filter: drop-shadow(0px 1px 2px rgba(0, 0, 0, 0.3));\n",
              "      fill: #FFFFFF;\n",
              "    }\n",
              "  </style>\n",
              "\n",
              "      <script>\n",
              "        const buttonEl =\n",
              "          document.querySelector('#df-b7136f1c-212a-4d57-ad69-d3f6bdeda018 button.colab-df-convert');\n",
              "        buttonEl.style.display =\n",
              "          google.colab.kernel.accessAllowed ? 'block' : 'none';\n",
              "\n",
              "        async function convertToInteractive(key) {\n",
              "          const element = document.querySelector('#df-b7136f1c-212a-4d57-ad69-d3f6bdeda018');\n",
              "          const dataTable =\n",
              "            await google.colab.kernel.invokeFunction('convertToInteractive',\n",
              "                                                     [key], {});\n",
              "          if (!dataTable) return;\n",
              "\n",
              "          const docLinkHtml = 'Like what you see? Visit the ' +\n",
              "            '<a target=\"_blank\" href=https://colab.research.google.com/notebooks/data_table.ipynb>data table notebook</a>'\n",
              "            + ' to learn more about interactive tables.';\n",
              "          element.innerHTML = '';\n",
              "          dataTable['output_type'] = 'display_data';\n",
              "          await google.colab.output.renderOutput(dataTable, element);\n",
              "          const docLink = document.createElement('div');\n",
              "          docLink.innerHTML = docLinkHtml;\n",
              "          element.appendChild(docLink);\n",
              "        }\n",
              "      </script>\n",
              "    </div>\n",
              "  </div>\n",
              "  "
            ]
          },
          "metadata": {},
          "execution_count": 15
        }
      ]
    },
    {
      "cell_type": "markdown",
      "id": "96e54c97-6af4-43f0-ad8f-6f23bbd7a829",
      "metadata": {
        "id": "96e54c97-6af4-43f0-ad8f-6f23bbd7a829"
      },
      "source": [
        "# Задание 2 (10 баллов)"
      ]
    },
    {
      "cell_type": "markdown",
      "id": "3296f02c-0c22-4460-a537-d202676c96ba",
      "metadata": {
        "id": "3296f02c-0c22-4460-a537-d202676c96ba"
      },
      "source": [
        "Напишите декоратор `telegram_logger`, который будет логировать запуски декорируемых функций и отправлять сообщения в телеграм.\n",
        "\n",
        "\n",
        "Вся информация про API телеграм ботов есть в официальной документации, начать изучение можно с [этой страницы](https://core.telegram.org/bots#how-do-bots-work) (разделы \"How Do Bots Work?\" и \"How Do I Create a Bot?\"), далее идите в [API reference](https://core.telegram.org/bots/api)\n",
        "\n",
        "**Основной функционал:**\n",
        "1. Декоратор должен принимать **один обязательный аргумент** &mdash; ваш **CHAT_ID** в телеграме. Как узнать свой **CHAT_ID** можно найти в интернете\n",
        "2. В сообщении об успешно завершённой функции должны быть указаны её **имя** и **время выполнения**\n",
        "3. В сообщении о функции, завершившейся с исключением, должно быть указано **имя функции**, **тип** и **текст ошибки**\n",
        "4. Ключевые элементы сообщения должны быть выделены **как код** (см. скриншот), форматирование остальных элементов по вашему желанию\n",
        "5. Время выполнения менее 1 дня отображается как `HH:MM:SS.μμμμμμ`, время выполнения более 1 дня как `DDD days, HH:MM:SS`. Писать форматирование самим не нужно, всё уже где-то сделано за вас\n",
        "\n",
        "**Дополнительный функционал:**\n",
        "1. К сообщению также должен быть прикреплён **файл**, содержащий всё, что декорируемая функция записывала в `stdout` и `stderr` во время выполнения. Имя файла это имя декорируемой функции с расширением `.log` (**+3 дополнительных балла**)\n",
        "2. Реализовать предыдущий пункт, не создавая файлов на диске (**+2 дополнительных балла**)\n",
        "3. Если функция ничего не печатает в `stdout` и `stderr` &mdash; отправлять файл не нужно\n",
        "\n",
        "**Важные примечания:**\n",
        "1. Ни в коем случае не храните свой API токен в коде и не загружайте его ни в каком виде свой в репозиторий. Сохраните его в **переменной окружения** `TG_API_TOKEN`, тогда его можно будет получить из кода при помощи `os.getenv(\"TG_API_TOKEN\")`. Ручное создание переменных окружения может быть не очень удобным, поэтому можете воспользоваться функцией `load_dotenv` из модуля [dotenv](https://pypi.org/project/python-dotenv/). В доке всё написано, но если коротко, то нужно создать файл `.env` в текущей папке и записать туда `TG_API_TOKEN=<your_token>`, тогда вызов `load_dotenv()` создаст переменные окружения из всех переменных в файле. Это довольно часто используемый способ хранения ключей и прочих приватных данных\n",
        "2. Функцию `long_lasting_function` из примера по понятным причинам запускать не нужно. Достаточно просто убедится, что большие временные интервалы правильно форматируются при отправке сообщения (как в примерах)\n",
        "3. Допустима реализация логирования, когда логгер полностью перехватывает запись в `stdout` и `stderr` (то есть при выполнении функций печать происходит **только** в файл)\n",
        "4. В реальной жизни вам не нужно использовать Telegram API при помощи ручных запросов, вместо этого стоит всегда использовать специальные библиотеки Python, реализующие Telegram API, они более высокоуровневые и удобные. В данном задании мы просто учимся работать с API при помощи написания велосипеда.\n",
        "5. Обязательно прочтите часть конспекта лекции про API перед выполнением задания, так как мы довольно поверхностно затронули это на лекции\n",
        "\n",
        "**Рекомендуемые к использованию модули:**\n",
        "1. os\n",
        "2. sys\n",
        "3. io\n",
        "4. datetime\n",
        "5. requests\n",
        "6. dotenv\n",
        "\n",
        "**Запрещённые модули**:\n",
        "1. Любые библиотеки, реализующие Telegram API в Python (*python-telegram-bot, Telethon, pyrogram, aiogram, telebot* и так далле...)\n",
        "2. Библиотеки, занимающиеся \"перехватыванием\" данных из `stdout` и `stderr` (*pytest-capturelog, contextlib, logging*  и так далле...)\n",
        "\n"
      ]
    },
    {
      "cell_type": "code",
      "source": [
        "!pip install python-dotenv"
      ],
      "metadata": {
        "colab": {
          "base_uri": "https://localhost:8080/"
        },
        "id": "dHlsOKhZMZgK",
        "outputId": "6e9c3ee5-2de1-4f6f-8ac5-219954d9c975"
      },
      "id": "dHlsOKhZMZgK",
      "execution_count": null,
      "outputs": [
        {
          "output_type": "stream",
          "name": "stdout",
          "text": [
            "Looking in indexes: https://pypi.org/simple, https://us-python.pkg.dev/colab-wheels/public/simple/\n",
            "Collecting python-dotenv\n",
            "  Downloading python_dotenv-1.0.0-py3-none-any.whl (19 kB)\n",
            "Installing collected packages: python-dotenv\n",
            "Successfully installed python-dotenv-1.0.0\n"
          ]
        }
      ]
    },
    {
      "cell_type": "code",
      "source": [
        "with open(\".env\", \"w\") as token_file:\n",
        "  token_file.write(\"your_token'\")"
      ],
      "metadata": {
        "id": "8kaRn3EC2J4N"
      },
      "id": "8kaRn3EC2J4N",
      "execution_count": null,
      "outputs": []
    },
    {
      "cell_type": "code",
      "execution_count": null,
      "id": "8c1719be-44c8-4051-81e2-8695ae212b25",
      "metadata": {
        "tags": [],
        "id": "8c1719be-44c8-4051-81e2-8695ae212b25",
        "colab": {
          "base_uri": "https://localhost:8080/"
        },
        "outputId": "7a0d96e9-381a-4cd9-f3f0-82ae7b79b43d"
      },
      "outputs": [
        {
          "output_type": "stream",
          "name": "stdout",
          "text": [
            "This goes to stdout\n"
          ]
        },
        {
          "output_type": "stream",
          "name": "stderr",
          "text": [
            "And this goes to stderr\n"
          ]
        },
        {
          "output_type": "stream",
          "name": "stdout",
          "text": [
            "Wake up, Neo\n",
            "Some text to stdout\n"
          ]
        },
        {
          "output_type": "stream",
          "name": "stderr",
          "text": [
            "Some text to stderr\n"
          ]
        }
      ],
      "source": [
        "import sys\n",
        "import time\n",
        "from datetime import timedelta\n",
        "import requests\n",
        "from dotenv import load_dotenv\n",
        "import os\n",
        "import io\n",
        "from types import FunctionType\n",
        "\n",
        "load_dotenv()\n",
        "\n",
        "TG_API_TOKEN = os.getenv(\"TG_API_TOKEN\")\n",
        "url = f\"https://api.telegram.org/bot{TG_API_TOKEN}/getUpdates\"\n",
        "CHAT_ID = requests.get(url).json()\n",
        "CHAT_ID = requests.get(url).json()[\"result\"][0][\"message\"][\"chat\"][\"id\"]\n",
        "\n",
        "\n",
        "def telegram_logger(chat_id):\n",
        "\n",
        "    def decorator(function):\n",
        "        log = io.StringIO(initial_value='')\n",
        "\n",
        "        def change_func(**some_kwargs):\n",
        "            def func_wrapper(func):\n",
        "                globals = func.__globals__.copy()\n",
        "                globals.update(some_kwargs)\n",
        "                new_func = FunctionType(\n",
        "                    func.__code__, globals, name=func.__name__,\n",
        "                    argdefs=func.__defaults__, closure=func.__closure__)\n",
        "                new_func.__dict__.update(func.__dict__)\n",
        "                return new_func\n",
        "            return func_wrapper\n",
        "\n",
        "        def my_print(*print_args, **print_kwargs):\n",
        "            print(*print_args, **print_kwargs)\n",
        "            log.write(*print_args)\n",
        "            log.write(\"\\n\")\n",
        "        \n",
        "        function = change_func(print=my_print)(function)\n",
        "\n",
        "        def wrapper(*args, **kwargs):\n",
        "            result = None\n",
        "            try:\n",
        "                start = time.time()\n",
        "                result = function(*args, **kwargs)\n",
        "                end = time.time()\n",
        "                message = f\"Function `{function.__name__}` has finished in {timedelta(seconds=(end - start))}\"\n",
        "\n",
        "            except Exception:\n",
        "                exc_type, exc_obj, exc_tb = sys.exc_info()\n",
        "                message = f\"Function `{function.__name__}` has finished with `{exc_type.__name__} exception`. \" \\\n",
        "                          f\"Exception text: `{exc_obj}`\"\n",
        "\n",
        "            contents = log.getvalue()\n",
        "\n",
        "            if contents:\n",
        "                file_name = f\"{function.__name__}.log\"\n",
        "                url_2 = f\"https://api.telegram.org/bot{TG_API_TOKEN}/sendDocument?chat_id={chat_id}\" \\\n",
        "                        f\"&caption={message}&parse_mode=Markdown\"\n",
        "                files = {'document': (file_name, contents)}\n",
        "                requests.post(url_2, files=files)\n",
        "            else:\n",
        "                requests.get(f\"https://api.telegram.org/bot{TG_API_TOKEN}/sendMessage?chat_id={chat_id}\"\n",
        "                             f\"&parse_mode=Markdown&text={message}\")\n",
        "            return result\n",
        "        return wrapper\n",
        "    return decorator\n",
        "\n",
        "\n",
        "@telegram_logger(CHAT_ID)\n",
        "def good_function():\n",
        "    print(\"This goes to stdout\")\n",
        "    print(\"And this goes to stderr\", file=sys.stderr)\n",
        "    time.sleep(2)\n",
        "    print(\"Wake up, Neo\")\n",
        "\n",
        "@telegram_logger(CHAT_ID)\n",
        "def bad_function():\n",
        "    print(\"Some text to stdout\")\n",
        "    time.sleep(2)\n",
        "    print(\"Some text to stderr\", file=sys.stderr)\n",
        "    raise RuntimeError(\"Ooops, exception here!\")\n",
        "    print(\"This text follows exception and should not appear in logs\")\n",
        "    \n",
        "@telegram_logger(CHAT_ID)\n",
        "def long_lasting_function():\n",
        "    time.sleep(200000000)\n",
        "\n",
        "\n",
        "good_function()\n",
        "\n",
        "try:\n",
        "    bad_function()\n",
        "except Exception:\n",
        "    pass\n",
        "\n",
        "# long_lasting_function()"
      ]
    },
    {
      "cell_type": "markdown",
      "id": "69f2a9fb-55dd-4493-a9cc-8ef70cbe6d4b",
      "metadata": {
        "id": "69f2a9fb-55dd-4493-a9cc-8ef70cbe6d4b"
      },
      "source": [
        "# Задание 3\n",
        "\n",
        "В данном задании от вас потребуется сделать Python API для какого-либо сервиса\n",
        "\n",
        "В задании предложено два варианта: простой и сложный, **выберите только один** из них.\n",
        "\n",
        "Можно использовать только **модули стандартной библиотеки** и **requests**. Любые другие модули можно по согласованию с преподавателем."
      ]
    },
    {
      "cell_type": "markdown",
      "id": "89661f9a-f2d2-4b9b-ad65-a043623ce8a7",
      "metadata": {
        "id": "89661f9a-f2d2-4b9b-ad65-a043623ce8a7"
      },
      "source": [
        "❗❗❗ В **данном задании** требуется оформить код в виде отдельного модуля (как будто вы пишете свою библиотеку). Код в ноутбуке проверяться не будет ❗❗❗"
      ]
    },
    {
      "cell_type": "markdown",
      "id": "68fab3fe-8d02-456e-ae97-ecece564b1cd",
      "metadata": {
        "id": "68fab3fe-8d02-456e-ae97-ecece564b1cd"
      },
      "source": [
        "## Вариант 1 (простой, 10 баллов)\n",
        "\n",
        "В данном задании вам потребуется сделать Python API для сервиса http://hollywood.mit.edu/GENSCAN.html\n",
        "\n",
        "Он способен находить и вырезать интроны в переданной нуклеотидной последовательности. Делает он это не очень хорошо, но это лучше, чем ничего. К тому же у него действительно нет публичного API.\n",
        "\n",
        "Реализуйте следующую функцию:\n",
        "`run_genscan(sequence=None, sequence_file=None, organism=\"Vertebrate\", exon_cutoff=1.00, sequence_name=\"\")` &mdash; выполняет запрос аналогичный заполнению формы на сайте. Принимает на вход все параметры, которые можно указать на сайте (кроме Print options). `sequence` &mdash; последовательность в виде строки или любого удобного вам типа данных, `sequence_file` &mdash; путь к файлу с последовательностью, который может быть загружен и использован вместо `sequence`. Функция должна будет возвращать объект типа `GenscanOutput`. Про него дальше.\n",
        "\n",
        "Реализуйте **датакласс** `GenscanOutput`, у него должны быть следующие поля:\n",
        "+ `status` &mdash; статус запроса\n",
        "+ `cds_list` &mdash; список предсказанных белковых последовательностей с учётом сплайсинга (в самом конце результатов с сайта)\n",
        "+ `intron_list` &mdash; список найденных интронов. Один интрон можно представить любым типом данных, но он должен хранить информацию о его порядковом номере, его начале и конце. Информацию о интронах можно получить из первой таблицы в результатах на сайте.\n",
        "+ `exon_list` &mdash; всё аналогично интронам, но только с экзонами.\n",
        "\n",
        "По желанию можно добавить любые данные, которые вы найдёте в результатах"
      ]
    },
    {
      "cell_type": "code",
      "execution_count": null,
      "id": "fc2beee9-cc4e-45d7-a3a8-ac253f69c145",
      "metadata": {
        "id": "fc2beee9-cc4e-45d7-a3a8-ac253f69c145"
      },
      "outputs": [],
      "source": [
        "# solution is in a separate module"
      ]
    },
    {
      "cell_type": "markdown",
      "id": "e19fb0f1-b99a-4e6b-b181-fbc9d75fbb8d",
      "metadata": {
        "id": "e19fb0f1-b99a-4e6b-b181-fbc9d75fbb8d"
      },
      "source": [
        "## Вариант 2 (очень сложный, 20 дополнительных баллов)"
      ]
    },
    {
      "cell_type": "markdown",
      "id": "3fc45fc9-e81b-4990-aaf2-73554532ba21",
      "metadata": {
        "id": "3fc45fc9-e81b-4990-aaf2-73554532ba21"
      },
      "source": [
        "В этом варианте от вас потребуется сделать Python API для BLAST, а именно для конкретной вариации **tblastn** https://blast.ncbi.nlm.nih.gov/Blast.cgi?PROGRAM=tblastn&PAGE_TYPE=BlastSearch&LINK_LOC=blasthome\n",
        "\n",
        "Хоть у BLAST и есть десктопное приложение, всё-таки есть одна область, где API может быть полезен. Если мы хотим искать последовательность в полногеномных сборках (WGS), а не в базах данных отдельных генов, у нас могут возникнуть проблемы. Так как если мы хотим пробластить нашу последовательность против большого количества геномов нам пришлось бы или вручную отправлять запросы на сайте, или скачивать все геномы и делать поиск локально. И тот и другой способы не очень удобны, поэтому круто было бы иметь способ сделать автоматический запрос, не заходя в браузер.\n",
        "\n",
        "Необходимо написать функцию для запроса, которая будет принимать 3 обязательных аргумента: **белковая последовательность**, которую мы бластим, **базу данных** (в этом задании нас интересует только WGS, но по желанию можете добавить какую-нибудь ещё), **таксон**, у которого мы ищем последовательность, чаще всего &mdash; конкретный вид. По=желанию можете добавить также любые другие аргументы, соответствующие различным настройкам поиска на сайте. \n",
        "\n",
        "Функция дожна возвращать список объектов типа `Alignment`, у него должны быть следующие атрибуты (всё согласно результатам в браузере, удобно посмотреть на рисунке ниже), можно добавить что-нибудь своё:\n",
        "\n",
        "![Alignment.png](attachment:e45d0969-ff95-4d4b-8bbc-7f5e481dcda3.png)\n",
        "\n",
        "\n",
        "Самое сложное в задании - правильно сделать запрос. Для этого нужно очень глубоко погрузиться в то, что происходит при отправке запроса при помощи инструмента для разработчиков. Ещё одна проблема заключается в том, что BLAST не отдаёт результаты сразу, какое-то время ваш запрос обрабатывается, при этом изначальный запрос не перекидывает вас на страницу с результатами. Задание не такое простое как кажется из описания!"
      ]
    },
    {
      "cell_type": "code",
      "execution_count": null,
      "id": "a4759c49-cfd1-4893-b2b4-3bd1de5ba60a",
      "metadata": {
        "id": "a4759c49-cfd1-4893-b2b4-3bd1de5ba60a"
      },
      "outputs": [],
      "source": [
        "# TODO"
      ]
    }
  ],
  "metadata": {
    "kernelspec": {
      "display_name": "Python 3 (ipykernel)",
      "language": "python",
      "name": "python3"
    },
    "language_info": {
      "codemirror_mode": {
        "name": "ipython",
        "version": 3
      },
      "file_extension": ".py",
      "mimetype": "text/x-python",
      "name": "python",
      "nbconvert_exporter": "python",
      "pygments_lexer": "ipython3",
      "version": "3.9.12"
    },
    "colab": {
      "provenance": [],
      "include_colab_link": true
    }
  },
  "nbformat": 4,
  "nbformat_minor": 5
}